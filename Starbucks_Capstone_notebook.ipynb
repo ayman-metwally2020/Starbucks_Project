{
 "cells": [
  {
   "cell_type": "markdown",
   "metadata": {},
   "source": [
    "# Starbucks Capstone Challenge\n",
    "\n",
    "### Introduction\n",
    "\n",
    "This data set contains simulated data that mimics customer behavior on the Starbucks rewards mobile app. Once every few days, Starbucks sends out an offer to users of the mobile app. An offer can be merely an advertisement for a drink or an actual offer such as a discount or BOGO (buy one get one free). Some users might not receive any offer during certain weeks. \n",
    "\n",
    "Not all users receive the same offer, and that is the challenge to solve with this data set.\n",
    "\n",
    "Your task is to combine transaction, demographic and offer data to determine which demographic groups respond best to which offer type. This data set is a simplified version of the real Starbucks app because the underlying simulator only has one product whereas Starbucks actually sells dozens of products.\n",
    "\n",
    "Every offer has a validity period before the offer expires. As an example, a BOGO offer might be valid for only 5 days. You'll see in the data set that informational offers have a validity period even though these ads are merely providing information about a product; for example, if an informational offer has 7 days of validity, you can assume the customer is feeling the influence of the offer for 7 days after receiving the advertisement.\n",
    "\n",
    "You'll be given transactional data showing user purchases made on the app including the timestamp of purchase and the amount of money spent on a purchase. This transactional data also has a record for each offer that a user receives as well as a record for when a user actually views the offer. There are also records for when a user completes an offer. \n",
    "\n",
    "Keep in mind as well that someone using the app might make a purchase through the app without having received an offer or seen an offer.\n",
    "\n",
    "### Example\n",
    "\n",
    "To give an example, a user could receive a discount offer buy 10 dollars get 2 off on Monday. The offer is valid for 10 days from receipt. If the customer accumulates at least 10 dollars in purchases during the validity period, the customer completes the offer.\n",
    "\n",
    "However, there are a few things to watch out for in this data set. Customers do not opt into the offers that they receive; in other words, a user can receive an offer, never actually view the offer, and still complete the offer. For example, a user might receive the \"buy 10 dollars get 2 dollars off offer\", but the user never opens the offer during the 10 day validity period. The customer spends 15 dollars during those ten days. There will be an offer completion record in the data set; however, the customer was not influenced by the offer because the customer never viewed the offer.\n",
    "\n",
    "### Cleaning\n",
    "\n",
    "This makes data cleaning especially important and tricky.\n",
    "\n",
    "You'll also want to take into account that some demographic groups will make purchases even if they don't receive an offer. From a business perspective, if a customer is going to make a 10 dollar purchase without an offer anyway, you wouldn't want to send a buy 10 dollars get 2 dollars off offer. You'll want to try to assess what a certain demographic group will buy when not receiving any offers.\n",
    "\n",
    "### Final Advice\n",
    "\n",
    "Because this is a capstone project, you are free to analyze the data any way you see fit. For example, you could build a machine learning model that predicts how much someone will spend based on demographics and offer type. Or you could build a model that predicts whether or not someone will respond to an offer. Or, you don't need to build a machine learning model at all. You could develop a set of heuristics that determine what offer you should send to each customer (ie 75 percent of women customers who were 35 years old responded to offer A vs 40 percent from the same demographic to offer B, so send offer A)."
   ]
  },
  {
   "cell_type": "markdown",
   "metadata": {},
   "source": [
    "# Data Sets\n",
    "\n",
    "The data is contained in three files:\n",
    "\n",
    "* portfolio.json - containing offer ids and meta data about each offer (duration, type, etc.)\n",
    "* profile.json - demographic data for each customer\n",
    "* transcript.json - records for transactions, offers received, offers viewed, and offers completed\n",
    "\n",
    "Here is the schema and explanation of each variable in the files:\n",
    "\n",
    "**portfolio.json**\n",
    "* id (string) - offer id\n",
    "* offer_type (string) - type of offer ie BOGO, discount, informational\n",
    "* difficulty (int) - minimum required spend to complete an offer\n",
    "* reward (int) - reward given for completing an offer\n",
    "* duration (int) - \n",
    "* channels (list of strings)\n",
    "\n",
    "**profile.json**\n",
    "* age (int) - age of the customer \n",
    "* became_member_on (int) - date when customer created an app account\n",
    "* gender (str) - gender of the customer (note some entries contain 'O' for other rather than M or F)\n",
    "* id (str) - customer id\n",
    "* income (float) - customer's income\n",
    "\n",
    "**transcript.json**\n",
    "* event (str) - record description (ie transaction, offer received, offer viewed, etc.)\n",
    "* person (str) - customer id\n",
    "* time (int) - time in hours. The data begins at time t=0\n",
    "* value - (dict of strings) - either an offer id or transaction amount depending on the record\n",
    "\n",
    "**Note:** If you are using the workspace, you will need to go to the terminal and run the command `conda update pandas` before reading in the files. This is because the version of pandas in the workspace cannot read in the transcript.json file correctly, but the newest version of pandas can. You can access the termnal from the orange icon in the top left of this notebook.  \n",
    "\n",
    "You can see how to access the terminal and how the install works using the two images below.  First you need to access the terminal:\n",
    "\n",
    "<img src=\"pic1.png\"/>\n",
    "\n",
    "Then you will want to run the above command:\n",
    "\n",
    "<img src=\"pic2.png\"/>\n",
    "\n",
    "Finally, when you enter back into the notebook (use the jupyter icon again), you should be able to run the below cell without any errors."
   ]
  },
  {
   "cell_type": "code",
   "execution_count": 93,
   "metadata": {},
   "outputs": [],
   "source": [
    "import pandas as pd\n",
    "import numpy as np\n",
    "import matplotlib.pyplot as plt\n",
    "import math\n",
    "import json\n",
    "import seaborn as sns\n",
    "\n",
    "from sklearn.model_selection import train_test_split\n",
    "from sklearn.preprocessing import MinMaxScaler, scale\n",
    "from sklearn.linear_model import LinearRegression\n",
    "from sklearn.ensemble import RandomForestRegressor\n",
    "from sklearn.metrics import r2_score\n",
    "from sklearn.svm import SVR\n",
    "\n",
    "import statsmodels.api as sm\n",
    "\n",
    "%matplotlib inline\n",
    "plt.style.use('fivethirtyeight')\n",
    "\n",
    "# read in the json files\n",
    "portfolio = pd.read_json('data/portfolio.json', orient='records', lines=True)\n",
    "profile = pd.read_json('data/profile.json', orient='records', lines=True)\n",
    "transcript = pd.read_json('data/transcript.json', orient='records', lines=True)"
   ]
  },
  {
   "cell_type": "markdown",
   "metadata": {},
   "source": [
    "# 0. Have Knowledge of data and Clean"
   ]
  },
  {
   "cell_type": "markdown",
   "metadata": {},
   "source": [
    "### 0.0 id dictionary"
   ]
  },
  {
   "cell_type": "code",
   "execution_count": 94,
   "metadata": {},
   "outputs": [],
   "source": [
    "def id_mapper_dict():\n",
    "    \"\"\"\n",
    "    In order to create a id dictionary\n",
    "    1.  customer_id\n",
    "    2.  offer_type_id\n",
    "    3. merge all\n",
    "    \"\"\"\n",
    "    # customer_id\n",
    "    coded_dict = dict()\n",
    "    cter = 1\n",
    "    prefix = \"C_\"\n",
    "    customer_encoded = []\n",
    "    \n",
    "    for val in profile['id']:\n",
    "        if val not in coded_dict:\n",
    "            coded_dict[val] = prefix + str(cter)\n",
    "            cter+=1\n",
    "        customer_encoded.append(coded_dict[val])\n",
    "        \n",
    "    id_dict = dict(zip(profile['id'], customer_encoded))\n",
    "    \n",
    "    # offer_type_id\n",
    "    coded_dict = dict()\n",
    "    cter = 1\n",
    "    prefix = \"F_\"\n",
    "    offer_encoded = []\n",
    "    \n",
    "    for val in portfolio['id']:\n",
    "        if val not in coded_dict:\n",
    "            coded_dict[val] = prefix + str(cter)\n",
    "            cter+=1\n",
    "        offer_encoded.append(coded_dict[val])\n",
    "    offer_id_dict = dict(zip(portfolio['id'], offer_encoded))\n",
    "    \n",
    "    # merge dictionary\n",
    "    id_dict.update(offer_id_dict)\n",
    "    \n",
    "    return id_dict\n",
    "id_dict = id_mapper_dict()"
   ]
  },
  {
   "cell_type": "markdown",
   "metadata": {},
   "source": [
    "## 0.1. Table of portfolio"
   ]
  },
  {
   "cell_type": "markdown",
   "metadata": {},
   "source": [
    "### 0.1.1. Data Assess"
   ]
  },
  {
   "cell_type": "code",
   "execution_count": 95,
   "metadata": {},
   "outputs": [
    {
     "data": {
      "text/html": [
       "<div>\n",
       "<style scoped>\n",
       "    .dataframe tbody tr th:only-of-type {\n",
       "        vertical-align: middle;\n",
       "    }\n",
       "\n",
       "    .dataframe tbody tr th {\n",
       "        vertical-align: top;\n",
       "    }\n",
       "\n",
       "    .dataframe thead th {\n",
       "        text-align: right;\n",
       "    }\n",
       "</style>\n",
       "<table border=\"1\" class=\"dataframe\">\n",
       "  <thead>\n",
       "    <tr style=\"text-align: right;\">\n",
       "      <th></th>\n",
       "      <th>reward</th>\n",
       "      <th>channels</th>\n",
       "      <th>difficulty</th>\n",
       "      <th>duration</th>\n",
       "      <th>offer_type</th>\n",
       "      <th>id</th>\n",
       "    </tr>\n",
       "  </thead>\n",
       "  <tbody>\n",
       "    <tr>\n",
       "      <th>0</th>\n",
       "      <td>10</td>\n",
       "      <td>[email, mobile, social]</td>\n",
       "      <td>10</td>\n",
       "      <td>7</td>\n",
       "      <td>bogo</td>\n",
       "      <td>ae264e3637204a6fb9bb56bc8210ddfd</td>\n",
       "    </tr>\n",
       "    <tr>\n",
       "      <th>1</th>\n",
       "      <td>10</td>\n",
       "      <td>[web, email, mobile, social]</td>\n",
       "      <td>10</td>\n",
       "      <td>5</td>\n",
       "      <td>bogo</td>\n",
       "      <td>4d5c57ea9a6940dd891ad53e9dbe8da0</td>\n",
       "    </tr>\n",
       "    <tr>\n",
       "      <th>2</th>\n",
       "      <td>0</td>\n",
       "      <td>[web, email, mobile]</td>\n",
       "      <td>0</td>\n",
       "      <td>4</td>\n",
       "      <td>informational</td>\n",
       "      <td>3f207df678b143eea3cee63160fa8bed</td>\n",
       "    </tr>\n",
       "    <tr>\n",
       "      <th>3</th>\n",
       "      <td>5</td>\n",
       "      <td>[web, email, mobile]</td>\n",
       "      <td>5</td>\n",
       "      <td>7</td>\n",
       "      <td>bogo</td>\n",
       "      <td>9b98b8c7a33c4b65b9aebfe6a799e6d9</td>\n",
       "    </tr>\n",
       "    <tr>\n",
       "      <th>4</th>\n",
       "      <td>5</td>\n",
       "      <td>[web, email]</td>\n",
       "      <td>20</td>\n",
       "      <td>10</td>\n",
       "      <td>discount</td>\n",
       "      <td>0b1e1539f2cc45b7b9fa7c272da2e1d7</td>\n",
       "    </tr>\n",
       "    <tr>\n",
       "      <th>5</th>\n",
       "      <td>3</td>\n",
       "      <td>[web, email, mobile, social]</td>\n",
       "      <td>7</td>\n",
       "      <td>7</td>\n",
       "      <td>discount</td>\n",
       "      <td>2298d6c36e964ae4a3e7e9706d1fb8c2</td>\n",
       "    </tr>\n",
       "    <tr>\n",
       "      <th>6</th>\n",
       "      <td>2</td>\n",
       "      <td>[web, email, mobile, social]</td>\n",
       "      <td>10</td>\n",
       "      <td>10</td>\n",
       "      <td>discount</td>\n",
       "      <td>fafdcd668e3743c1bb461111dcafc2a4</td>\n",
       "    </tr>\n",
       "    <tr>\n",
       "      <th>7</th>\n",
       "      <td>0</td>\n",
       "      <td>[email, mobile, social]</td>\n",
       "      <td>0</td>\n",
       "      <td>3</td>\n",
       "      <td>informational</td>\n",
       "      <td>5a8bc65990b245e5a138643cd4eb9837</td>\n",
       "    </tr>\n",
       "    <tr>\n",
       "      <th>8</th>\n",
       "      <td>5</td>\n",
       "      <td>[web, email, mobile, social]</td>\n",
       "      <td>5</td>\n",
       "      <td>5</td>\n",
       "      <td>bogo</td>\n",
       "      <td>f19421c1d4aa40978ebb69ca19b0e20d</td>\n",
       "    </tr>\n",
       "    <tr>\n",
       "      <th>9</th>\n",
       "      <td>2</td>\n",
       "      <td>[web, email, mobile]</td>\n",
       "      <td>10</td>\n",
       "      <td>7</td>\n",
       "      <td>discount</td>\n",
       "      <td>2906b810c7d4411798c6938adc9daaa5</td>\n",
       "    </tr>\n",
       "  </tbody>\n",
       "</table>\n",
       "</div>"
      ],
      "text/plain": [
       "   reward                      channels  difficulty  duration     offer_type  \\\n",
       "0      10       [email, mobile, social]          10         7           bogo   \n",
       "1      10  [web, email, mobile, social]          10         5           bogo   \n",
       "2       0          [web, email, mobile]           0         4  informational   \n",
       "3       5          [web, email, mobile]           5         7           bogo   \n",
       "4       5                  [web, email]          20        10       discount   \n",
       "5       3  [web, email, mobile, social]           7         7       discount   \n",
       "6       2  [web, email, mobile, social]          10        10       discount   \n",
       "7       0       [email, mobile, social]           0         3  informational   \n",
       "8       5  [web, email, mobile, social]           5         5           bogo   \n",
       "9       2          [web, email, mobile]          10         7       discount   \n",
       "\n",
       "                                 id  \n",
       "0  ae264e3637204a6fb9bb56bc8210ddfd  \n",
       "1  4d5c57ea9a6940dd891ad53e9dbe8da0  \n",
       "2  3f207df678b143eea3cee63160fa8bed  \n",
       "3  9b98b8c7a33c4b65b9aebfe6a799e6d9  \n",
       "4  0b1e1539f2cc45b7b9fa7c272da2e1d7  \n",
       "5  2298d6c36e964ae4a3e7e9706d1fb8c2  \n",
       "6  fafdcd668e3743c1bb461111dcafc2a4  \n",
       "7  5a8bc65990b245e5a138643cd4eb9837  \n",
       "8  f19421c1d4aa40978ebb69ca19b0e20d  \n",
       "9  2906b810c7d4411798c6938adc9daaa5  "
      ]
     },
     "execution_count": 95,
     "metadata": {},
     "output_type": "execute_result"
    }
   ],
   "source": [
    "portfolio"
   ]
  },
  {
   "cell_type": "code",
   "execution_count": null,
   "metadata": {},
   "outputs": [],
   "source": []
  },
  {
   "cell_type": "markdown",
   "metadata": {},
   "source": [
    "**Notes:**\n",
    "\n",
    "- id: offer_type id, the primary key of the table \n",
    "- offer_type: there are 3 main and 10 sub offer types\n",
    "- difficulty: thredhold\n",
    "- reward: if accumulated consumptions over the threshold after received the offer and consuming during the valid date. "
   ]
  },
  {
   "cell_type": "markdown",
   "metadata": {},
   "source": [
    "### 0.1.2 Data Clean\n",
    "\n",
    "- To convert offer_type to unique type like (offer_type)\\_difficulty_duration_reward\n",
    "- extract channels"
   ]
  },
  {
   "cell_type": "code",
   "execution_count": 96,
   "metadata": {},
   "outputs": [],
   "source": [
    "portfolio['id'] = portfolio['id'].map(id_dict)"
   ]
  },
  {
   "cell_type": "code",
   "execution_count": 97,
   "metadata": {},
   "outputs": [],
   "source": [
    "for element in [\"web\", \"email\", \"mobile\", \"social\"]:\n",
    "    portfolio[element] = portfolio['channels'].apply(lambda x: 1 if element in x else 0)\n",
    "portfolio.drop('channels', axis=1, inplace=True)"
   ]
  },
  {
   "cell_type": "code",
   "execution_count": 98,
   "metadata": {},
   "outputs": [
    {
     "data": {
      "text/html": [
       "<div>\n",
       "<style scoped>\n",
       "    .dataframe tbody tr th:only-of-type {\n",
       "        vertical-align: middle;\n",
       "    }\n",
       "\n",
       "    .dataframe tbody tr th {\n",
       "        vertical-align: top;\n",
       "    }\n",
       "\n",
       "    .dataframe thead th {\n",
       "        text-align: right;\n",
       "    }\n",
       "</style>\n",
       "<table border=\"1\" class=\"dataframe\">\n",
       "  <thead>\n",
       "    <tr style=\"text-align: right;\">\n",
       "      <th></th>\n",
       "      <th>reward</th>\n",
       "      <th>difficulty</th>\n",
       "      <th>duration</th>\n",
       "      <th>offer_type</th>\n",
       "      <th>id</th>\n",
       "      <th>web</th>\n",
       "      <th>email</th>\n",
       "      <th>mobile</th>\n",
       "      <th>social</th>\n",
       "    </tr>\n",
       "  </thead>\n",
       "  <tbody>\n",
       "    <tr>\n",
       "      <th>0</th>\n",
       "      <td>10</td>\n",
       "      <td>10</td>\n",
       "      <td>7</td>\n",
       "      <td>bogo</td>\n",
       "      <td>F_1</td>\n",
       "      <td>0</td>\n",
       "      <td>1</td>\n",
       "      <td>1</td>\n",
       "      <td>1</td>\n",
       "    </tr>\n",
       "    <tr>\n",
       "      <th>1</th>\n",
       "      <td>10</td>\n",
       "      <td>10</td>\n",
       "      <td>5</td>\n",
       "      <td>bogo</td>\n",
       "      <td>F_2</td>\n",
       "      <td>1</td>\n",
       "      <td>1</td>\n",
       "      <td>1</td>\n",
       "      <td>1</td>\n",
       "    </tr>\n",
       "    <tr>\n",
       "      <th>2</th>\n",
       "      <td>0</td>\n",
       "      <td>0</td>\n",
       "      <td>4</td>\n",
       "      <td>informational</td>\n",
       "      <td>F_3</td>\n",
       "      <td>1</td>\n",
       "      <td>1</td>\n",
       "      <td>1</td>\n",
       "      <td>0</td>\n",
       "    </tr>\n",
       "    <tr>\n",
       "      <th>3</th>\n",
       "      <td>5</td>\n",
       "      <td>5</td>\n",
       "      <td>7</td>\n",
       "      <td>bogo</td>\n",
       "      <td>F_4</td>\n",
       "      <td>1</td>\n",
       "      <td>1</td>\n",
       "      <td>1</td>\n",
       "      <td>0</td>\n",
       "    </tr>\n",
       "    <tr>\n",
       "      <th>4</th>\n",
       "      <td>5</td>\n",
       "      <td>20</td>\n",
       "      <td>10</td>\n",
       "      <td>discount</td>\n",
       "      <td>F_5</td>\n",
       "      <td>1</td>\n",
       "      <td>1</td>\n",
       "      <td>0</td>\n",
       "      <td>0</td>\n",
       "    </tr>\n",
       "    <tr>\n",
       "      <th>5</th>\n",
       "      <td>3</td>\n",
       "      <td>7</td>\n",
       "      <td>7</td>\n",
       "      <td>discount</td>\n",
       "      <td>F_6</td>\n",
       "      <td>1</td>\n",
       "      <td>1</td>\n",
       "      <td>1</td>\n",
       "      <td>1</td>\n",
       "    </tr>\n",
       "    <tr>\n",
       "      <th>6</th>\n",
       "      <td>2</td>\n",
       "      <td>10</td>\n",
       "      <td>10</td>\n",
       "      <td>discount</td>\n",
       "      <td>F_7</td>\n",
       "      <td>1</td>\n",
       "      <td>1</td>\n",
       "      <td>1</td>\n",
       "      <td>1</td>\n",
       "    </tr>\n",
       "    <tr>\n",
       "      <th>7</th>\n",
       "      <td>0</td>\n",
       "      <td>0</td>\n",
       "      <td>3</td>\n",
       "      <td>informational</td>\n",
       "      <td>F_8</td>\n",
       "      <td>0</td>\n",
       "      <td>1</td>\n",
       "      <td>1</td>\n",
       "      <td>1</td>\n",
       "    </tr>\n",
       "    <tr>\n",
       "      <th>8</th>\n",
       "      <td>5</td>\n",
       "      <td>5</td>\n",
       "      <td>5</td>\n",
       "      <td>bogo</td>\n",
       "      <td>F_9</td>\n",
       "      <td>1</td>\n",
       "      <td>1</td>\n",
       "      <td>1</td>\n",
       "      <td>1</td>\n",
       "    </tr>\n",
       "    <tr>\n",
       "      <th>9</th>\n",
       "      <td>2</td>\n",
       "      <td>10</td>\n",
       "      <td>7</td>\n",
       "      <td>discount</td>\n",
       "      <td>F_10</td>\n",
       "      <td>1</td>\n",
       "      <td>1</td>\n",
       "      <td>1</td>\n",
       "      <td>0</td>\n",
       "    </tr>\n",
       "  </tbody>\n",
       "</table>\n",
       "</div>"
      ],
      "text/plain": [
       "   reward  difficulty  duration     offer_type    id  web  email  mobile  \\\n",
       "0      10          10         7           bogo   F_1    0      1       1   \n",
       "1      10          10         5           bogo   F_2    1      1       1   \n",
       "2       0           0         4  informational   F_3    1      1       1   \n",
       "3       5           5         7           bogo   F_4    1      1       1   \n",
       "4       5          20        10       discount   F_5    1      1       0   \n",
       "5       3           7         7       discount   F_6    1      1       1   \n",
       "6       2          10        10       discount   F_7    1      1       1   \n",
       "7       0           0         3  informational   F_8    0      1       1   \n",
       "8       5           5         5           bogo   F_9    1      1       1   \n",
       "9       2          10         7       discount  F_10    1      1       1   \n",
       "\n",
       "   social  \n",
       "0       1  \n",
       "1       1  \n",
       "2       0  \n",
       "3       0  \n",
       "4       0  \n",
       "5       1  \n",
       "6       1  \n",
       "7       1  \n",
       "8       1  \n",
       "9       0  "
      ]
     },
     "execution_count": 98,
     "metadata": {},
     "output_type": "execute_result"
    }
   ],
   "source": [
    "portfolio"
   ]
  },
  {
   "cell_type": "markdown",
   "metadata": {},
   "source": [
    "## 0.2. Table of profile"
   ]
  },
  {
   "cell_type": "markdown",
   "metadata": {},
   "source": [
    "### 0.2.1 Data Assess"
   ]
  },
  {
   "cell_type": "code",
   "execution_count": 99,
   "metadata": {},
   "outputs": [
    {
     "data": {
      "text/html": [
       "<div>\n",
       "<style scoped>\n",
       "    .dataframe tbody tr th:only-of-type {\n",
       "        vertical-align: middle;\n",
       "    }\n",
       "\n",
       "    .dataframe tbody tr th {\n",
       "        vertical-align: top;\n",
       "    }\n",
       "\n",
       "    .dataframe thead th {\n",
       "        text-align: right;\n",
       "    }\n",
       "</style>\n",
       "<table border=\"1\" class=\"dataframe\">\n",
       "  <thead>\n",
       "    <tr style=\"text-align: right;\">\n",
       "      <th></th>\n",
       "      <th>gender</th>\n",
       "      <th>age</th>\n",
       "      <th>id</th>\n",
       "      <th>became_member_on</th>\n",
       "      <th>income</th>\n",
       "    </tr>\n",
       "  </thead>\n",
       "  <tbody>\n",
       "    <tr>\n",
       "      <th>0</th>\n",
       "      <td>None</td>\n",
       "      <td>118</td>\n",
       "      <td>68be06ca386d4c31939f3a4f0e3dd783</td>\n",
       "      <td>20170212</td>\n",
       "      <td>NaN</td>\n",
       "    </tr>\n",
       "    <tr>\n",
       "      <th>1</th>\n",
       "      <td>F</td>\n",
       "      <td>55</td>\n",
       "      <td>0610b486422d4921ae7d2bf64640c50b</td>\n",
       "      <td>20170715</td>\n",
       "      <td>112000.0</td>\n",
       "    </tr>\n",
       "    <tr>\n",
       "      <th>2</th>\n",
       "      <td>None</td>\n",
       "      <td>118</td>\n",
       "      <td>38fe809add3b4fcf9315a9694bb96ff5</td>\n",
       "      <td>20180712</td>\n",
       "      <td>NaN</td>\n",
       "    </tr>\n",
       "    <tr>\n",
       "      <th>3</th>\n",
       "      <td>F</td>\n",
       "      <td>75</td>\n",
       "      <td>78afa995795e4d85b5d9ceeca43f5fef</td>\n",
       "      <td>20170509</td>\n",
       "      <td>100000.0</td>\n",
       "    </tr>\n",
       "    <tr>\n",
       "      <th>4</th>\n",
       "      <td>None</td>\n",
       "      <td>118</td>\n",
       "      <td>a03223e636434f42ac4c3df47e8bac43</td>\n",
       "      <td>20170804</td>\n",
       "      <td>NaN</td>\n",
       "    </tr>\n",
       "  </tbody>\n",
       "</table>\n",
       "</div>"
      ],
      "text/plain": [
       "  gender  age                                id  became_member_on    income\n",
       "0   None  118  68be06ca386d4c31939f3a4f0e3dd783          20170212       NaN\n",
       "1      F   55  0610b486422d4921ae7d2bf64640c50b          20170715  112000.0\n",
       "2   None  118  38fe809add3b4fcf9315a9694bb96ff5          20180712       NaN\n",
       "3      F   75  78afa995795e4d85b5d9ceeca43f5fef          20170509  100000.0\n",
       "4   None  118  a03223e636434f42ac4c3df47e8bac43          20170804       NaN"
      ]
     },
     "execution_count": 99,
     "metadata": {},
     "output_type": "execute_result"
    }
   ],
   "source": [
    "profile.head()"
   ]
  },
  {
   "cell_type": "code",
   "execution_count": 100,
   "metadata": {},
   "outputs": [
    {
     "name": "stdout",
     "output_type": "stream",
     "text": [
      "<class 'pandas.core.frame.DataFrame'>\n",
      "RangeIndex: 17000 entries, 0 to 16999\n",
      "Data columns (total 5 columns):\n",
      " #   Column            Non-Null Count  Dtype  \n",
      "---  ------            --------------  -----  \n",
      " 0   gender            14825 non-null  object \n",
      " 1   age               17000 non-null  int64  \n",
      " 2   id                17000 non-null  object \n",
      " 3   became_member_on  17000 non-null  int64  \n",
      " 4   income            14825 non-null  float64\n",
      "dtypes: float64(1), int64(2), object(2)\n",
      "memory usage: 664.2+ KB\n"
     ]
    }
   ],
   "source": [
    "profile.info()"
   ]
  },
  {
   "cell_type": "code",
   "execution_count": 101,
   "metadata": {},
   "outputs": [
    {
     "data": {
      "image/png": "[encoded data removed]",
      "text/plain": [
       "<Figure size 1080x432 with 3 Axes>"
      ]
     },
     "metadata": {},
     "output_type": "display_data"
    }
   ],
   "source": [
    "profile.hist(figsize=(15,6), layout=(1,3), color=sns.color_palette('colorblind')[-1], grid=True);\n",
    "plt.savefig('./pic/profile_distribution.png', dpi=300, quality=80, bbox_inches='tight')"
   ]
  },
  {
   "cell_type": "code",
   "execution_count": 102,
   "metadata": {},
   "outputs": [
    {
     "data": {
      "text/plain": [
       "0.11411764705882353"
      ]
     },
     "execution_count": 102,
     "metadata": {},
     "output_type": "execute_result"
    }
   ],
   "source": [
    "profile[profile['income']<40000].shape[0]/profile.shape[0]"
   ]
  },
  {
   "cell_type": "markdown",
   "metadata": {},
   "source": [
    "**Notes:**\n",
    "\n",
    "- id: customor id, primary key\n",
    "- customers who leave blank age and gender are all 118 years old.\n",
    "- age might be classified into categories as (,30],(30,45],(45,60],(60,]\n",
    "- became_member_on might be classified into (,2014],(2014,2015],(2015,2016],(2016,2017](2017,2018],(2018,]\n",
    "- income might be classifed into 5 categories."
   ]
  },
  {
   "cell_type": "markdown",
   "metadata": {},
   "source": [
    "### 0.2.2 Data Clean\n",
    "\n",
    "- delet invalid records\n",
    "- create proxies of customer rather than code"
   ]
  },
  {
   "cell_type": "code",
   "execution_count": 103,
   "metadata": {},
   "outputs": [],
   "source": [
    "# slice\n",
    "profile = profile[profile['income'].notnull()].reset_index(drop=True)\n",
    "\n",
    "# create ordinary/categorical data\n",
    "profile['age'] = pd.cut(x = profile['age'], \n",
    "                               bins = [profile['age'].min(), 30, 45, 60, 80,profile['age'].max()],\n",
    "                               labels = ['<30','31~45','46~60','61~80','>80'])\n",
    "\n",
    "profile['became_member_on'] = pd.cut(profile['became_member_on'], \n",
    "          bins=[profile['became_member_on'].min(), 20150000, 20160000,20170000, 20180000, profile['became_member_on'].max()], \n",
    "          labels = ['<2014','2014','2015','2017','2018'])\n",
    "\n",
    "# convert id \n",
    "profile['id'] = profile['id'].map(id_dict)"
   ]
  },
  {
   "cell_type": "code",
   "execution_count": 104,
   "metadata": {},
   "outputs": [
    {
     "data": {
      "text/html": [
       "<div>\n",
       "<style scoped>\n",
       "    .dataframe tbody tr th:only-of-type {\n",
       "        vertical-align: middle;\n",
       "    }\n",
       "\n",
       "    .dataframe tbody tr th {\n",
       "        vertical-align: top;\n",
       "    }\n",
       "\n",
       "    .dataframe thead th {\n",
       "        text-align: right;\n",
       "    }\n",
       "</style>\n",
       "<table border=\"1\" class=\"dataframe\">\n",
       "  <thead>\n",
       "    <tr style=\"text-align: right;\">\n",
       "      <th></th>\n",
       "      <th>gender</th>\n",
       "      <th>age</th>\n",
       "      <th>id</th>\n",
       "      <th>became_member_on</th>\n",
       "      <th>income</th>\n",
       "    </tr>\n",
       "  </thead>\n",
       "  <tbody>\n",
       "    <tr>\n",
       "      <th>0</th>\n",
       "      <td>F</td>\n",
       "      <td>46~60</td>\n",
       "      <td>C_2</td>\n",
       "      <td>2017</td>\n",
       "      <td>112000.0</td>\n",
       "    </tr>\n",
       "    <tr>\n",
       "      <th>1</th>\n",
       "      <td>F</td>\n",
       "      <td>61~80</td>\n",
       "      <td>C_4</td>\n",
       "      <td>2017</td>\n",
       "      <td>100000.0</td>\n",
       "    </tr>\n",
       "    <tr>\n",
       "      <th>2</th>\n",
       "      <td>M</td>\n",
       "      <td>61~80</td>\n",
       "      <td>C_6</td>\n",
       "      <td>2018</td>\n",
       "      <td>70000.0</td>\n",
       "    </tr>\n",
       "    <tr>\n",
       "      <th>3</th>\n",
       "      <td>M</td>\n",
       "      <td>61~80</td>\n",
       "      <td>C_9</td>\n",
       "      <td>2018</td>\n",
       "      <td>53000.0</td>\n",
       "    </tr>\n",
       "    <tr>\n",
       "      <th>4</th>\n",
       "      <td>M</td>\n",
       "      <td>46~60</td>\n",
       "      <td>C_13</td>\n",
       "      <td>2017</td>\n",
       "      <td>51000.0</td>\n",
       "    </tr>\n",
       "  </tbody>\n",
       "</table>\n",
       "</div>"
      ],
      "text/plain": [
       "  gender    age    id became_member_on    income\n",
       "0      F  46~60   C_2             2017  112000.0\n",
       "1      F  61~80   C_4             2017  100000.0\n",
       "2      M  61~80   C_6             2018   70000.0\n",
       "3      M  61~80   C_9             2018   53000.0\n",
       "4      M  46~60  C_13             2017   51000.0"
      ]
     },
     "execution_count": 104,
     "metadata": {},
     "output_type": "execute_result"
    }
   ],
   "source": [
    "    profile.head()"
   ]
  },
  {
   "cell_type": "markdown",
   "metadata": {},
   "source": [
    "## 0.3. Table of transcript"
   ]
  },
  {
   "cell_type": "markdown",
   "metadata": {},
   "source": [
    "### 0.3.1 Data Assess"
   ]
  },
  {
   "cell_type": "code",
   "execution_count": 105,
   "metadata": {},
   "outputs": [
    {
     "data": {
      "text/html": [
       "<div>\n",
       "<style scoped>\n",
       "    .dataframe tbody tr th:only-of-type {\n",
       "        vertical-align: middle;\n",
       "    }\n",
       "\n",
       "    .dataframe tbody tr th {\n",
       "        vertical-align: top;\n",
       "    }\n",
       "\n",
       "    .dataframe thead th {\n",
       "        text-align: right;\n",
       "    }\n",
       "</style>\n",
       "<table border=\"1\" class=\"dataframe\">\n",
       "  <thead>\n",
       "    <tr style=\"text-align: right;\">\n",
       "      <th></th>\n",
       "      <th>person</th>\n",
       "      <th>event</th>\n",
       "      <th>value</th>\n",
       "      <th>time</th>\n",
       "    </tr>\n",
       "  </thead>\n",
       "  <tbody>\n",
       "    <tr>\n",
       "      <th>0</th>\n",
       "      <td>78afa995795e4d85b5d9ceeca43f5fef</td>\n",
       "      <td>offer received</td>\n",
       "      <td>{'offer id': '9b98b8c7a33c4b65b9aebfe6a799e6d9'}</td>\n",
       "      <td>0</td>\n",
       "    </tr>\n",
       "    <tr>\n",
       "      <th>1</th>\n",
       "      <td>a03223e636434f42ac4c3df47e8bac43</td>\n",
       "      <td>offer received</td>\n",
       "      <td>{'offer id': '0b1e1539f2cc45b7b9fa7c272da2e1d7'}</td>\n",
       "      <td>0</td>\n",
       "    </tr>\n",
       "    <tr>\n",
       "      <th>2</th>\n",
       "      <td>e2127556f4f64592b11af22de27a7932</td>\n",
       "      <td>offer received</td>\n",
       "      <td>{'offer id': '2906b810c7d4411798c6938adc9daaa5'}</td>\n",
       "      <td>0</td>\n",
       "    </tr>\n",
       "    <tr>\n",
       "      <th>3</th>\n",
       "      <td>8ec6ce2a7e7949b1bf142def7d0e0586</td>\n",
       "      <td>offer received</td>\n",
       "      <td>{'offer id': 'fafdcd668e3743c1bb461111dcafc2a4'}</td>\n",
       "      <td>0</td>\n",
       "    </tr>\n",
       "    <tr>\n",
       "      <th>4</th>\n",
       "      <td>68617ca6246f4fbc85e91a2a49552598</td>\n",
       "      <td>offer received</td>\n",
       "      <td>{'offer id': '4d5c57ea9a6940dd891ad53e9dbe8da0'}</td>\n",
       "      <td>0</td>\n",
       "    </tr>\n",
       "  </tbody>\n",
       "</table>\n",
       "</div>"
      ],
      "text/plain": [
       "                             person           event  \\\n",
       "0  78afa995795e4d85b5d9ceeca43f5fef  offer received   \n",
       "1  a03223e636434f42ac4c3df47e8bac43  offer received   \n",
       "2  e2127556f4f64592b11af22de27a7932  offer received   \n",
       "3  8ec6ce2a7e7949b1bf142def7d0e0586  offer received   \n",
       "4  68617ca6246f4fbc85e91a2a49552598  offer received   \n",
       "\n",
       "                                              value  time  \n",
       "0  {'offer id': '9b98b8c7a33c4b65b9aebfe6a799e6d9'}     0  \n",
       "1  {'offer id': '0b1e1539f2cc45b7b9fa7c272da2e1d7'}     0  \n",
       "2  {'offer id': '2906b810c7d4411798c6938adc9daaa5'}     0  \n",
       "3  {'offer id': 'fafdcd668e3743c1bb461111dcafc2a4'}     0  \n",
       "4  {'offer id': '4d5c57ea9a6940dd891ad53e9dbe8da0'}     0  "
      ]
     },
     "execution_count": 105,
     "metadata": {},
     "output_type": "execute_result"
    }
   ],
   "source": [
    "transcript.head()"
   ]
  },
  {
   "cell_type": "code",
   "execution_count": 106,
   "metadata": {},
   "outputs": [
    {
     "name": "stdout",
     "output_type": "stream",
     "text": [
      "<class 'pandas.core.frame.DataFrame'>\n",
      "RangeIndex: 306534 entries, 0 to 306533\n",
      "Data columns (total 4 columns):\n",
      " #   Column  Non-Null Count   Dtype \n",
      "---  ------  --------------   ----- \n",
      " 0   person  306534 non-null  object\n",
      " 1   event   306534 non-null  object\n",
      " 2   value   306534 non-null  object\n",
      " 3   time    306534 non-null  int64 \n",
      "dtypes: int64(1), object(3)\n",
      "memory usage: 9.4+ MB\n"
     ]
    }
   ],
   "source": [
    "transcript.info()"
   ]
  },
  {
   "cell_type": "code",
   "execution_count": 107,
   "metadata": {},
   "outputs": [
    {
     "data": {
      "text/plain": [
       "['offer received', 'offer viewed', 'transaction', 'offer completed']"
      ]
     },
     "execution_count": 107,
     "metadata": {},
     "output_type": "execute_result"
    }
   ],
   "source": [
    "transcript['event'].unique().tolist()"
   ]
  },
  {
   "cell_type": "code",
   "execution_count": 108,
   "metadata": {},
   "outputs": [
    {
     "data": {
      "text/plain": [
       "714"
      ]
     },
     "execution_count": 108,
     "metadata": {},
     "output_type": "execute_result"
    }
   ],
   "source": [
    "transcript['time'].max()"
   ]
  },
  {
   "cell_type": "markdown",
   "metadata": {},
   "source": [
    "**Notes**\n",
    "\n",
    "- the designed procedure should be:  \n",
    "    - offer_received --> offer_veiwed --> transaction --> offer completed\n",
    "\n",
    "- it's better to seprete the table of transcript into 4 tables refering to 4 events .\n",
    "\n",
    "- value should be extracted from dictionary."
   ]
  },
  {
   "cell_type": "markdown",
   "metadata": {},
   "source": [
    "### 0.3.2 Data Clean\n",
    "\n",
    "- extract values from dictionary \n",
    "- transfer code of person and offer types to short labels.\n",
    "- seperate the table of transcript into 4 tables. They are offer_received, offer_viewed, offer_completed, and transcation."
   ]
  },
  {
   "cell_type": "code",
   "execution_count": 109,
   "metadata": {},
   "outputs": [],
   "source": [
    "# extract values from dictionary\n",
    "transcript['value'] = transcript['value'].apply(lambda x: list(x.values())[0])\n",
    "\n",
    "# map the columns of person and value from id_dict\n",
    "transcript['person'] = transcript['person'].map(id_dict)\n",
    "transcript.loc[transcript[\"event\"] != 'transaction',\"value\"] = transcript.loc[transcript[\"event\"] != 'transaction',\"value\"].map(id_dict)"
   ]
  },
  {
   "cell_type": "code",
   "execution_count": 110,
   "metadata": {},
   "outputs": [],
   "source": [
    "# seperate the table of transcript into 4 tables. They are offer_received, offer_viewed, offer_completed, and transcation. \n",
    "# and rename the columns respectively. \n",
    "offer_received = transcript.query(\"event == 'offer received'\").loc[:,['person','time','value']]\n",
    "offer_received.columns = ['person','received_time','received_offer']\n",
    "\n",
    "offer_viewed = transcript.query(\"event == 'offer viewed'\").loc[:,['person','time','value']]\n",
    "offer_viewed.columns = ['person','viewed_time','viewed_offer']\n",
    "\n",
    "transaction = transcript.query(\"event == 'transaction'\").loc[:, ['person','time','value']]\n",
    "transaction.columns = ['person','purchase_time','amount']\n",
    "transaction['amount'] = transaction['amount'].astype(float)\n",
    "\n",
    "offer_completed = transcript.query(\"event == 'offer completed'\").loc[:, ['person','time','value']]\n",
    "offer_completed.columns =  ['person','completed_time','completed_offer']"
   ]
  },
  {
   "cell_type": "markdown",
   "metadata": {},
   "source": [
    "## 0.4 Summary"
   ]
  },
  {
   "cell_type": "code",
   "execution_count": 111,
   "metadata": {},
   "outputs": [],
   "source": [
    "q1 = transcript['person'].nunique()\n",
    "q2 = offer_received['person'].nunique()\n",
    "q3 = q1 - q2\n",
    "q4 = offer_completed['person'].nunique()\n",
    "q5 = len(set(offer_received['person']) - set(transaction['person']))\n",
    "q6 = offer_viewed['person'].nunique()\n",
    "q7 = len(set(set(offer_received['person']) - set(offer_viewed['person'])) - set(transaction['person']))"
   ]
  },
  {
   "cell_type": "code",
   "execution_count": 112,
   "metadata": {},
   "outputs": [
    {
     "name": "stdout",
     "output_type": "stream",
     "text": [
      "\n",
      "There are 17000 customers contained in the simulated data set. Only these person who received offers and completes the offers would be awarded. \n",
      "16994 person received offers while 6 person did not. Each person might receive several types of offer, 12774 person at least completed an offer and were rewarded. 422 person received offers but did not have any consumption records. 16834 person did not view any offers they received. However, \n",
      "only 10 person in them with no transaction records.\n",
      "\n",
      "6 person who had not any transaction records are out of the range of this observation.\n",
      "\n"
     ]
    }
   ],
   "source": [
    "print(\"\"\"\n",
    "There are %d customers contained in the simulated data set. Only these person who received offers and completes the offers would be awarded. \n",
    "%d person received offers while %d person did not. Each person might receive several types of offer, %d person at least completed an offer and were rewarded. %d person received offers but did not have any consumption records. %d person did not view any offers they received. However, \n",
    "only %d person in them with no transaction records.\\n\n",
    "%d person who had not any transaction records are out of the range of this observation.\n",
    "\"\"\" % (q1,q2,q3,q4,q5,q6,q7,q3))"
   ]
  },
  {
   "cell_type": "markdown",
   "metadata": {},
   "source": [
    "# 1. To indentify customers who are responsive to coffee offers"
   ]
  },
  {
   "cell_type": "markdown",
   "metadata": {},
   "source": [
    "## 1.1 Criteria for response record\n",
    "\n",
    "- a customer who received the offer viewed the offer and completed the offer.\n",
    "- a customer might received offers for several times, but the offers have to be viewed and complete in time.\n",
    "- the offer type of informational is slightly different to the other offer types. There isn't a sign of completion so that we assume if any comsumption occurs after viewed during validity of date might be account for a qualified response record."
   ]
  },
  {
   "cell_type": "markdown",
   "metadata": {},
   "source": [
    "## 1.2 Create a response dataframe"
   ]
  },
  {
   "cell_type": "markdown",
   "metadata": {},
   "source": [
    "### 1.2.1 seperate bogo, discount and informational"
   ]
  },
  {
   "cell_type": "code",
   "execution_count": 113,
   "metadata": {},
   "outputs": [],
   "source": [
    "# offer_received_without_informational \n",
    "offer_bogo_discount = offer_received.query(\"not(received_offer == 'F_3' or received_offer == 'F_8')\")\n",
    "offer_informational = offer_received.query(\"received_offer == 'F_3' or received_offer == 'F_8'\")"
   ]
  },
  {
   "cell_type": "markdown",
   "metadata": {},
   "source": [
    "### 1.2.1 find response for bogo and discount offer"
   ]
  },
  {
   "cell_type": "code",
   "execution_count": 114,
   "metadata": {},
   "outputs": [],
   "source": [
    "# prepare\n",
    "response = offer_bogo_discount.merge(portfolio[['id','duration']], left_on='received_offer', right_on = 'id')\n",
    "response.drop('id', axis=1, inplace=True)\n",
    "\n",
    "# connect received offers and viewed offers\n",
    "response = response.merge(offer_viewed, left_on = ['person','received_offer'], right_on = ['person', 'viewed_offer'])\n",
    "response['isValid'] = ((response['viewed_time'] - response['received_time']) <= response['duration']) & \\\n",
    "                                ((response['viewed_time'] - response['received_time'] >= 0))\n",
    "response = response.loc[response['isValid'], :\"duration\"]\n",
    "\n",
    "# connect viewed offers and completed offers\n",
    "response = response.merge(offer_completed, left_on = ['person','received_offer'], right_on = ['person', 'completed_offer'])\n",
    "response['isValid'] = ((response['completed_time'] - response['received_time']) <= response['duration']) & \\\n",
    "                                ((response['completed_time'] - response['received_time'] >= 0))\n",
    "response = response.loc[response['isValid'], :\"received_offer\"]"
   ]
  },
  {
   "cell_type": "code",
   "execution_count": 115,
   "metadata": {},
   "outputs": [
    {
     "data": {
      "text/plain": [
       "1531"
      ]
     },
     "execution_count": 115,
     "metadata": {},
     "output_type": "execute_result"
    }
   ],
   "source": [
    "response['person'].nunique()"
   ]
  },
  {
   "cell_type": "code",
   "execution_count": 116,
   "metadata": {},
   "outputs": [
    {
     "data": {
      "text/html": [
       "<div>\n",
       "<style scoped>\n",
       "    .dataframe tbody tr th:only-of-type {\n",
       "        vertical-align: middle;\n",
       "    }\n",
       "\n",
       "    .dataframe tbody tr th {\n",
       "        vertical-align: top;\n",
       "    }\n",
       "\n",
       "    .dataframe thead th {\n",
       "        text-align: right;\n",
       "    }\n",
       "</style>\n",
       "<table border=\"1\" class=\"dataframe\">\n",
       "  <thead>\n",
       "    <tr style=\"text-align: right;\">\n",
       "      <th></th>\n",
       "      <th>person</th>\n",
       "      <th>received_time</th>\n",
       "      <th>received_offer</th>\n",
       "    </tr>\n",
       "  </thead>\n",
       "  <tbody>\n",
       "    <tr>\n",
       "      <th>2</th>\n",
       "      <td>C_175</td>\n",
       "      <td>0</td>\n",
       "      <td>F_4</td>\n",
       "    </tr>\n",
       "    <tr>\n",
       "      <th>17</th>\n",
       "      <td>C_982</td>\n",
       "      <td>168</td>\n",
       "      <td>F_4</td>\n",
       "    </tr>\n",
       "    <tr>\n",
       "      <th>28</th>\n",
       "      <td>C_2283</td>\n",
       "      <td>0</td>\n",
       "      <td>F_4</td>\n",
       "    </tr>\n",
       "    <tr>\n",
       "      <th>35</th>\n",
       "      <td>C_2611</td>\n",
       "      <td>0</td>\n",
       "      <td>F_4</td>\n",
       "    </tr>\n",
       "    <tr>\n",
       "      <th>41</th>\n",
       "      <td>C_2894</td>\n",
       "      <td>0</td>\n",
       "      <td>F_4</td>\n",
       "    </tr>\n",
       "  </tbody>\n",
       "</table>\n",
       "</div>"
      ],
      "text/plain": [
       "    person  received_time received_offer\n",
       "2    C_175              0            F_4\n",
       "17   C_982            168            F_4\n",
       "28  C_2283              0            F_4\n",
       "35  C_2611              0            F_4\n",
       "41  C_2894              0            F_4"
      ]
     },
     "execution_count": 116,
     "metadata": {},
     "output_type": "execute_result"
    }
   ],
   "source": [
    "response.head()"
   ]
  },
  {
   "cell_type": "markdown",
   "metadata": {},
   "source": [
    "### 1.2.2 find responses for informational offer"
   ]
  },
  {
   "cell_type": "code",
   "execution_count": 117,
   "metadata": {},
   "outputs": [],
   "source": [
    "# prepare\n",
    "response_info = offer_informational.merge(portfolio[['id','duration']], left_on='received_offer', right_on = 'id')\n",
    "response_info.drop('id', axis=1, inplace=True)\n",
    "\n",
    "# connect received offers and viewed offers\n",
    "response_info = response_info.merge(offer_viewed, left_on = ['person','received_offer'], right_on = ['person', 'viewed_offer'])\n",
    "response_info['isValid'] = ((response_info['viewed_time'] - response_info['received_time']) <= response_info['duration']) & \\\n",
    "                                ((response_info['viewed_time'] - response_info['received_time'] >= 0))\n",
    "response_info = response_info.loc[response_info['isValid'], :\"duration\"]\n",
    "\n",
    "# connect viewed offers and transaction records\n",
    "response_info = response_info.merge(transaction, on=\"person\")\n",
    "\n",
    "def isValid_info(response_info): # valid metric \n",
    "    if (response_info['purchase_time'] >= response_info['received_time']) & \\\n",
    "       (response_info['purchase_time'] <= (response_info['received_time'] + response_info['duration'])): \n",
    "        return True\n",
    "    else:\n",
    "        return False\n",
    "response_info['isValid'] = response_info.apply(isValid_info, axis=1)\n",
    "\n",
    "response_info = response_info[response_info['isValid']].groupby(['person','received_time','received_offer'])['amount'].sum().reset_index().loc[:,:'received_offer']"
   ]
  },
  {
   "cell_type": "markdown",
   "metadata": {},
   "source": [
    "### 1.2.3 all response records"
   ]
  },
  {
   "cell_type": "code",
   "execution_count": 118,
   "metadata": {},
   "outputs": [],
   "source": [
    "# merge \n",
    "response = pd.concat([response,response_info])"
   ]
  },
  {
   "cell_type": "code",
   "execution_count": 119,
   "metadata": {},
   "outputs": [
    {
     "data": {
      "text/html": [
       "<div>\n",
       "<style scoped>\n",
       "    .dataframe tbody tr th:only-of-type {\n",
       "        vertical-align: middle;\n",
       "    }\n",
       "\n",
       "    .dataframe tbody tr th {\n",
       "        vertical-align: top;\n",
       "    }\n",
       "\n",
       "    .dataframe thead th {\n",
       "        text-align: right;\n",
       "    }\n",
       "</style>\n",
       "<table border=\"1\" class=\"dataframe\">\n",
       "  <thead>\n",
       "    <tr style=\"text-align: right;\">\n",
       "      <th></th>\n",
       "      <th>person</th>\n",
       "      <th>received_time</th>\n",
       "      <th>received_offer</th>\n",
       "    </tr>\n",
       "  </thead>\n",
       "  <tbody>\n",
       "    <tr>\n",
       "      <th>2</th>\n",
       "      <td>C_175</td>\n",
       "      <td>0</td>\n",
       "      <td>F_4</td>\n",
       "    </tr>\n",
       "    <tr>\n",
       "      <th>17</th>\n",
       "      <td>C_982</td>\n",
       "      <td>168</td>\n",
       "      <td>F_4</td>\n",
       "    </tr>\n",
       "    <tr>\n",
       "      <th>28</th>\n",
       "      <td>C_2283</td>\n",
       "      <td>0</td>\n",
       "      <td>F_4</td>\n",
       "    </tr>\n",
       "    <tr>\n",
       "      <th>35</th>\n",
       "      <td>C_2611</td>\n",
       "      <td>0</td>\n",
       "      <td>F_4</td>\n",
       "    </tr>\n",
       "    <tr>\n",
       "      <th>41</th>\n",
       "      <td>C_2894</td>\n",
       "      <td>0</td>\n",
       "      <td>F_4</td>\n",
       "    </tr>\n",
       "  </tbody>\n",
       "</table>\n",
       "</div>"
      ],
      "text/plain": [
       "    person  received_time received_offer\n",
       "2    C_175              0            F_4\n",
       "17   C_982            168            F_4\n",
       "28  C_2283              0            F_4\n",
       "35  C_2611              0            F_4\n",
       "41  C_2894              0            F_4"
      ]
     },
     "execution_count": 119,
     "metadata": {},
     "output_type": "execute_result"
    }
   ],
   "source": [
    "response.head()"
   ]
  },
  {
   "cell_type": "markdown",
   "metadata": {},
   "source": [
    "## 1.3 Q1: What's the response rate?"
   ]
  },
  {
   "cell_type": "markdown",
   "metadata": {},
   "source": [
    "### 1.3.1 Overall"
   ]
  },
  {
   "cell_type": "code",
   "execution_count": 120,
   "metadata": {},
   "outputs": [
    {
     "data": {
      "image/png": "[encoded data removed]",
      "text/plain": [
       "<Figure size 1080x360 with 1 Axes>"
      ]
     },
     "metadata": {},
     "output_type": "display_data"
    }
   ],
   "source": [
    "# number of response\n",
    "stat_response = response.merge(portfolio[['id','offer_type','difficulty','duration','reward']], left_on='received_offer', right_on='id')\n",
    "stat_response.drop('id', axis=1, inplace=True)\n",
    "\n",
    "# number of all received offer\n",
    "stat_all = offer_received.merge(portfolio[['id','offer_type','difficulty','duration','reward']], left_on='received_offer', right_on='id')\n",
    "stat_all.drop('id', axis=1, inplace=True)\n",
    "\n",
    "# response rate\n",
    "((stat_response.groupby('offer_type').size()/stat_all.groupby('offer_type').size())*100).rename(\"response_rate\").\\\n",
    "sort_values(ascending = False).plot.bar(figsize=(15,5), rot=0, title=\"Response rate\",color=sns.color_palette('colorblind')[-1], grid=False);\n",
    "plt.savefig('./pic/response_rate_overall.png', dpi=300, bbox_inches='tight')"
   ]
  },
  {
   "cell_type": "code",
   "execution_count": 121,
   "metadata": {},
   "outputs": [
    {
     "data": {
      "text/plain": [
       "offer_type\n",
       "bogo             2.324666\n",
       "discount         3.185673\n",
       "informational    1.910075\n",
       "dtype: float64"
      ]
     },
     "execution_count": 121,
     "metadata": {},
     "output_type": "execute_result"
    }
   ],
   "source": [
    "((stat_response.groupby('offer_type').size()/stat_all.groupby('offer_type').size())*100)"
   ]
  },
  {
   "cell_type": "markdown",
   "metadata": {},
   "source": [
    "### 1.3.2 subset"
   ]
  },
  {
   "cell_type": "code",
   "execution_count": 122,
   "metadata": {},
   "outputs": [],
   "source": [
    "response_rate = (stat_response.groupby(['offer_type','difficulty','duration','reward']).size()/stat_all.groupby(['offer_type','difficulty','duration','reward']).size()*100).round(2)"
   ]
  },
  {
   "cell_type": "code",
   "execution_count": 123,
   "metadata": {},
   "outputs": [
    {
     "data": {
      "image/png": "[encoded data removed]",
      "text/plain": [
       "<Figure size 1080x360 with 3 Axes>"
      ]
     },
     "metadata": {},
     "output_type": "display_data"
    }
   ],
   "source": [
    "fig, (ax1, ax2, ax3) = plt.subplots(ncols=3, nrows=1, figsize=(15,5))\n",
    "\n",
    "idx = pd.IndexSlice\n",
    "ax1 = response_rate.loc[idx['discount']].sort_values(ascending = False).plot.bar(title='discount', color=sns.color_palette('colorblind')[-1], ax=ax1, rot=0,ylim=(0,6), grid=False)\n",
    "ax1.set_ylabel(\"response rate, %\")\n",
    "ax2 = response_rate.loc[idx['bogo']].sort_values(ascending = False).plot.bar(title='bogo', color=sns.color_palette('colorblind')[-1], ax=ax2, rot=0, sharey=True,ylim=(0,6),grid=False)\n",
    "ax3 = response_rate.loc[idx['informational']].sort_values(ascending = False).plot.bar(title='informational', color=sns.color_palette('colorblind')[-1], ax=ax3,rot=0,sharey=True,ylim=(0,6),grid=False)\n",
    "\n",
    "plt.savefig('./pic/response_rate_subset.png', bbox_inches='tight', dpi=300)"
   ]
  },
  {
   "cell_type": "markdown",
   "metadata": {},
   "source": [
    "## 1.4 Which groups of people are most responsive to each type of offer?"
   ]
  },
  {
   "cell_type": "code",
   "execution_count": 124,
   "metadata": {},
   "outputs": [],
   "source": [
    "response_person = response.drop_duplicates(subset=['person'])\n",
    "response_person = response_person.merge(profile, left_on='person', right_on = 'id')\n",
    "response_person.drop('id', axis=1, inplace=True)\n",
    "response_person = response_person.merge(portfolio[['id','offer_type']], left_on='received_offer', right_on='id')\n",
    "response_person.drop('id', axis=1, inplace=True)\n",
    "\n",
    "# convert data of income in profile as category data\n",
    "response_person['income'] = pd.cut(response_person['income'], \n",
    "          bins=[profile['income'].min(), 40000, 60000, 80000,100000, profile['income'].max()], \n",
    "          labels = ['<40k', '40k~60k', '60k~80k', '80k~100k', '>100k'])"
   ]
  },
  {
   "cell_type": "code",
   "execution_count": 125,
   "metadata": {},
   "outputs": [
    {
     "data": {
      "text/html": [
       "<div>\n",
       "<style scoped>\n",
       "    .dataframe tbody tr th:only-of-type {\n",
       "        vertical-align: middle;\n",
       "    }\n",
       "\n",
       "    .dataframe tbody tr th {\n",
       "        vertical-align: top;\n",
       "    }\n",
       "\n",
       "    .dataframe thead th {\n",
       "        text-align: right;\n",
       "    }\n",
       "</style>\n",
       "<table border=\"1\" class=\"dataframe\">\n",
       "  <thead>\n",
       "    <tr style=\"text-align: right;\">\n",
       "      <th></th>\n",
       "      <th>person</th>\n",
       "      <th>received_time</th>\n",
       "      <th>received_offer</th>\n",
       "      <th>gender</th>\n",
       "      <th>age</th>\n",
       "      <th>became_member_on</th>\n",
       "      <th>income</th>\n",
       "      <th>offer_type</th>\n",
       "    </tr>\n",
       "  </thead>\n",
       "  <tbody>\n",
       "    <tr>\n",
       "      <th>0</th>\n",
       "      <td>C_175</td>\n",
       "      <td>0</td>\n",
       "      <td>F_4</td>\n",
       "      <td>M</td>\n",
       "      <td>46~60</td>\n",
       "      <td>2018</td>\n",
       "      <td>60k~80k</td>\n",
       "      <td>bogo</td>\n",
       "    </tr>\n",
       "    <tr>\n",
       "      <th>1</th>\n",
       "      <td>C_982</td>\n",
       "      <td>168</td>\n",
       "      <td>F_4</td>\n",
       "      <td>O</td>\n",
       "      <td>46~60</td>\n",
       "      <td>2017</td>\n",
       "      <td>60k~80k</td>\n",
       "      <td>bogo</td>\n",
       "    </tr>\n",
       "    <tr>\n",
       "      <th>2</th>\n",
       "      <td>C_2283</td>\n",
       "      <td>0</td>\n",
       "      <td>F_4</td>\n",
       "      <td>F</td>\n",
       "      <td>46~60</td>\n",
       "      <td>2017</td>\n",
       "      <td>60k~80k</td>\n",
       "      <td>bogo</td>\n",
       "    </tr>\n",
       "    <tr>\n",
       "      <th>3</th>\n",
       "      <td>C_2611</td>\n",
       "      <td>0</td>\n",
       "      <td>F_4</td>\n",
       "      <td>M</td>\n",
       "      <td>31~45</td>\n",
       "      <td>2014</td>\n",
       "      <td>80k~100k</td>\n",
       "      <td>bogo</td>\n",
       "    </tr>\n",
       "    <tr>\n",
       "      <th>4</th>\n",
       "      <td>C_2894</td>\n",
       "      <td>0</td>\n",
       "      <td>F_4</td>\n",
       "      <td>M</td>\n",
       "      <td>46~60</td>\n",
       "      <td>2017</td>\n",
       "      <td>40k~60k</td>\n",
       "      <td>bogo</td>\n",
       "    </tr>\n",
       "  </tbody>\n",
       "</table>\n",
       "</div>"
      ],
      "text/plain": [
       "   person  received_time received_offer gender    age became_member_on  \\\n",
       "0   C_175              0            F_4      M  46~60             2018   \n",
       "1   C_982            168            F_4      O  46~60             2017   \n",
       "2  C_2283              0            F_4      F  46~60             2017   \n",
       "3  C_2611              0            F_4      M  31~45             2014   \n",
       "4  C_2894              0            F_4      M  46~60             2017   \n",
       "\n",
       "     income offer_type  \n",
       "0   60k~80k       bogo  \n",
       "1   60k~80k       bogo  \n",
       "2   60k~80k       bogo  \n",
       "3  80k~100k       bogo  \n",
       "4   40k~60k       bogo  "
      ]
     },
     "execution_count": 125,
     "metadata": {},
     "output_type": "execute_result"
    }
   ],
   "source": [
    "response_person.head()"
   ]
  },
  {
   "cell_type": "code",
   "execution_count": 126,
   "metadata": {},
   "outputs": [],
   "source": [
    "all_person = offer_received.drop_duplicates('person')\n",
    "all_person = all_person.merge(profile, left_on='person', right_on='id')\n",
    "all_person.drop('id', axis=1, inplace=True)\n",
    "all_person = all_person.merge(portfolio[['id','offer_type']], left_on='received_offer', right_on='id')\n",
    "all_person.drop('id', axis=1, inplace=True)\n",
    "\n",
    "# convert data of income as category data\n",
    "all_person['income'] = pd.cut(all_person['income'], \n",
    "          bins=[profile['income'].min(), 40000, 60000, 80000,100000, profile['income'].max()], \n",
    "          labels = ['<40k', '40k~60k', '60k~80k', '80k~100k', '>100k'])"
   ]
  },
  {
   "cell_type": "code",
   "execution_count": 127,
   "metadata": {},
   "outputs": [
    {
     "data": {
      "text/html": [
       "<div>\n",
       "<style scoped>\n",
       "    .dataframe tbody tr th:only-of-type {\n",
       "        vertical-align: middle;\n",
       "    }\n",
       "\n",
       "    .dataframe tbody tr th {\n",
       "        vertical-align: top;\n",
       "    }\n",
       "\n",
       "    .dataframe thead th {\n",
       "        text-align: right;\n",
       "    }\n",
       "</style>\n",
       "<table border=\"1\" class=\"dataframe\">\n",
       "  <thead>\n",
       "    <tr style=\"text-align: right;\">\n",
       "      <th></th>\n",
       "      <th>person</th>\n",
       "      <th>received_time</th>\n",
       "      <th>received_offer</th>\n",
       "      <th>gender</th>\n",
       "      <th>age</th>\n",
       "      <th>became_member_on</th>\n",
       "      <th>income</th>\n",
       "      <th>offer_type</th>\n",
       "    </tr>\n",
       "  </thead>\n",
       "  <tbody>\n",
       "    <tr>\n",
       "      <th>0</th>\n",
       "      <td>C_4</td>\n",
       "      <td>0</td>\n",
       "      <td>F_4</td>\n",
       "      <td>F</td>\n",
       "      <td>61~80</td>\n",
       "      <td>2017</td>\n",
       "      <td>80k~100k</td>\n",
       "      <td>bogo</td>\n",
       "    </tr>\n",
       "    <tr>\n",
       "      <th>1</th>\n",
       "      <td>C_30</td>\n",
       "      <td>0</td>\n",
       "      <td>F_4</td>\n",
       "      <td>M</td>\n",
       "      <td>46~60</td>\n",
       "      <td>2014</td>\n",
       "      <td>40k~60k</td>\n",
       "      <td>bogo</td>\n",
       "    </tr>\n",
       "    <tr>\n",
       "      <th>2</th>\n",
       "      <td>C_35</td>\n",
       "      <td>0</td>\n",
       "      <td>F_4</td>\n",
       "      <td>M</td>\n",
       "      <td>31~45</td>\n",
       "      <td>2015</td>\n",
       "      <td>&lt;40k</td>\n",
       "      <td>bogo</td>\n",
       "    </tr>\n",
       "    <tr>\n",
       "      <th>3</th>\n",
       "      <td>C_43</td>\n",
       "      <td>0</td>\n",
       "      <td>F_4</td>\n",
       "      <td>M</td>\n",
       "      <td>31~45</td>\n",
       "      <td>2018</td>\n",
       "      <td>&lt;40k</td>\n",
       "      <td>bogo</td>\n",
       "    </tr>\n",
       "    <tr>\n",
       "      <th>4</th>\n",
       "      <td>C_48</td>\n",
       "      <td>0</td>\n",
       "      <td>F_4</td>\n",
       "      <td>F</td>\n",
       "      <td>46~60</td>\n",
       "      <td>2017</td>\n",
       "      <td>60k~80k</td>\n",
       "      <td>bogo</td>\n",
       "    </tr>\n",
       "  </tbody>\n",
       "</table>\n",
       "</div>"
      ],
      "text/plain": [
       "  person  received_time received_offer gender    age became_member_on  \\\n",
       "0    C_4              0            F_4      F  61~80             2017   \n",
       "1   C_30              0            F_4      M  46~60             2014   \n",
       "2   C_35              0            F_4      M  31~45             2015   \n",
       "3   C_43              0            F_4      M  31~45             2018   \n",
       "4   C_48              0            F_4      F  46~60             2017   \n",
       "\n",
       "     income offer_type  \n",
       "0  80k~100k       bogo  \n",
       "1   40k~60k       bogo  \n",
       "2      <40k       bogo  \n",
       "3      <40k       bogo  \n",
       "4   60k~80k       bogo  "
      ]
     },
     "execution_count": 127,
     "metadata": {},
     "output_type": "execute_result"
    }
   ],
   "source": [
    "all_person.head()"
   ]
  },
  {
   "cell_type": "code",
   "execution_count": 128,
   "metadata": {},
   "outputs": [],
   "source": [
    "def profile_plot(key, rot):\n",
    "    \"\"\"\n",
    "    plot demographic difference on key variable bewteen response_person and all_person.  \n",
    "    \n",
    "    \"\"\"\n",
    "    \n",
    "    underlying = response_person.groupby(['offer_type', key])['person'].count().groupby(level=0).apply(lambda x: x/x.sum() * 100).round(2)\n",
    "    overall = all_person.groupby(['offer_type',key])['person'].count().groupby(level=0).apply(lambda x: x/x.sum() * 100).round(2)\n",
    "    \n",
    "    profile_invest = pd.DataFrame(underlying.rename('Response')).join(overall.rename('Overall'))\n",
    "    \n",
    "    fig, (ax1,ax2,ax3) = plt.subplots(ncols=3, nrows=1, figsize=(15,5))\n",
    "    idx = pd.IndexSlice\n",
    "    \n",
    "    y_limit = round(profile_invest.max().max())+1\n",
    "    profile_invest .loc[idx['discount']].plot.bar(title=\"discount\",ax=ax1, rot=rot, ylim=(0,y_limit))\n",
    "    profile_invest .loc[idx['bogo']].plot.bar(title=\"bogo\",ax=ax2, rot=rot,legend=False,ylim=(0, y_limit))\n",
    "    profile_invest .loc[idx['informational']].plot.bar(title=\"informational\",ax=ax3,rot=rot, legend=False,ylim=(0,y_limit));\n",
    "    \n",
    "    file_name = './pic/demograhic_differ_on_' + key + '.png'\n",
    "    plt.savefig(file_name, bbox_inches='tight', dpi=300)\n",
    "    \n",
    "    plt.show()\n",
    "    "
   ]
  },
  {
   "cell_type": "code",
   "execution_count": 129,
   "metadata": {},
   "outputs": [],
   "source": [
    "def profile_plot_1(key, rot=0, color=sns.color_palette('colorblind')[-1]):\n",
    "    \"\"\"\n",
    "    plot response rate on key demographic variable for response_person. \n",
    "    \n",
    "    \"\"\"\n",
    "    \n",
    "    underlying = response_person.groupby(['offer_type', key])['person'].count()\n",
    "    overall = all_person.groupby(['offer_type',key])['person'].count()\n",
    "    \n",
    "    profile_invest = ((underlying/overall)*100).rename(\"response_rate\")\n",
    "    \n",
    "    fig, (ax1,ax2,ax3) = plt.subplots(ncols=3, nrows=1, figsize=(15,5))\n",
    "    idx = pd.IndexSlice\n",
    "    \n",
    "    y_limit = round(profile_invest.max().max())+1\n",
    "    profile_invest .loc[idx['discount']].plot.bar(title=\"discount\",ax=ax1, rot=rot, ylim=(0,y_limit), legend=False, color=color,grid=False)\n",
    "    ax1.set_ylabel(\"response rate, %\")\n",
    "    profile_invest .loc[idx['bogo']].plot.bar(title=\"bogo\",ax=ax2, rot=rot,legend=False,ylim=(0, y_limit),color=color, grid=False)\n",
    "    profile_invest .loc[idx['informational']].plot.bar(title=\"informational\",ax=ax3,rot=rot, legend=False,ylim=(0,y_limit),color=color, grid=False);\n",
    "    \n",
    "    file_name = './pic/response_rate_on_' + key + '.png'\n",
    "    plt.savefig(file_name, bbox_inches='tight', dpi=300)\n",
    "    \n",
    "    plt.show()\n",
    "  "
   ]
  },
  {
   "cell_type": "markdown",
   "metadata": {},
   "source": [
    "### 1.4.1 age"
   ]
  },
  {
   "cell_type": "code",
   "execution_count": 130,
   "metadata": {},
   "outputs": [
    {
     "data": {
      "image/png": "[encoded data removed]",
      "text/plain": [
       "<Figure size 1080x360 with 3 Axes>"
      ]
     },
     "metadata": {},
     "output_type": "display_data"
    }
   ],
   "source": [
    "profile_plot('age', 0)"
   ]
  },
  {
   "cell_type": "code",
   "execution_count": 131,
   "metadata": {},
   "outputs": [
    {
     "data": {
      "image/png": "[encoded data removed]",
      "text/plain": [
       "<Figure size 1080x360 with 3 Axes>"
      ]
     },
     "metadata": {},
     "output_type": "display_data"
    }
   ],
   "source": [
    "profile_plot_1('age',0)"
   ]
  },
  {
   "cell_type": "markdown",
   "metadata": {},
   "source": [
    "### 1.4.2 became member on"
   ]
  },
  {
   "cell_type": "code",
   "execution_count": 132,
   "metadata": {},
   "outputs": [
    {
     "data": {
      "image/png": "[encoded data removed]",
      "text/plain": [
       "<Figure size 1080x360 with 3 Axes>"
      ]
     },
     "metadata": {},
     "output_type": "display_data"
    }
   ],
   "source": [
    "profile_plot('became_member_on',0)"
   ]
  },
  {
   "cell_type": "code",
   "execution_count": 133,
   "metadata": {},
   "outputs": [
    {
     "data": {
      "image/png": "[encoded data removed]",
      "text/plain": [
       "<Figure size 1080x360 with 3 Axes>"
      ]
     },
     "metadata": {},
     "output_type": "display_data"
    }
   ],
   "source": [
    "profile_plot_1('became_member_on',0)"
   ]
  },
  {
   "cell_type": "markdown",
   "metadata": {},
   "source": [
    "### 1.4.3 income"
   ]
  },
  {
   "cell_type": "code",
   "execution_count": 134,
   "metadata": {},
   "outputs": [
    {
     "data": {
      "image/png": "[encoded data removed]",
      "text/plain": [
       "<Figure size 1080x360 with 3 Axes>"
      ]
     },
     "metadata": {},
     "output_type": "display_data"
    }
   ],
   "source": [
    "profile_plot('income', 15)"
   ]
  },
  {
   "cell_type": "code",
   "execution_count": 135,
   "metadata": {},
   "outputs": [
    {
     "data": {
      "image/png": "[encoded data removed]",
      "text/plain": [
       "<Figure size 1080x360 with 3 Axes>"
      ]
     },
     "metadata": {},
     "output_type": "display_data"
    }
   ],
   "source": [
    "profile_plot_1('income', 15)"
   ]
  },
  {
   "cell_type": "markdown",
   "metadata": {},
   "source": [
    "# 2. How much someone will spend based on demographics and offer types?"
   ]
  },
  {
   "cell_type": "markdown",
   "metadata": {},
   "source": [
    "## 2.1 Data Preparation \n",
    "\n",
    "- endogenous variable: average amount of purchases\n",
    "- exogenous variable: including factors of the profiles and offer types and we should know if the customer is responsive to what types of offers. "
   ]
  },
  {
   "cell_type": "markdown",
   "metadata": {},
   "source": [
    "### 2.1.1 data set"
   ]
  },
  {
   "cell_type": "code",
   "execution_count": 136,
   "metadata": {},
   "outputs": [],
   "source": [
    "# merge proflle and response in order to know who is responsive to coffee offers\n",
    "df = profile.merge(response[['person','received_offer']], left_on='id', right_on='person', how='left')\n",
    "df.drop('person', axis=1, inplace=True)\n",
    "\n",
    "# join average transaction data to proflie  \n",
    "df = df.set_index('id').join(transaction.groupby('person')['amount'].sum(), how=\"inner\")\n",
    "\n",
    "# drop those customers who didn't receive any coffee offers\n",
    "exclude_ind = np.array(list(set(transaction['person'])-set(offer_received['person'])))\n",
    "df = df.iloc[np.where(np.logical_not(np.isin(df.index.values, exclude_ind)))[0]]"
   ]
  },
  {
   "cell_type": "markdown",
   "metadata": {},
   "source": [
    "**2.1.2 outliers**"
   ]
  },
  {
   "cell_type": "code",
   "execution_count": 137,
   "metadata": {},
   "outputs": [
    {
     "data": {
      "image/png": "[encoded data removed]",
      "text/plain": [
       "<Figure size 432x288 with 1 Axes>"
      ]
     },
     "metadata": {},
     "output_type": "display_data"
    }
   ],
   "source": [
    "sns.boxplot(x='amount',data=df);"
   ]
  },
  {
   "cell_type": "code",
   "execution_count": 138,
   "metadata": {},
   "outputs": [
    {
     "data": {
      "image/png": "[encoded data removed]",
      "text/plain": [
       "<Figure size 432x288 with 1 Axes>"
      ]
     },
     "metadata": {},
     "output_type": "display_data"
    }
   ],
   "source": [
    "# identify outliers\n",
    "IQR = df['amount'].quantile(0.75) - df['amount'].quantile(0.25)\n",
    "outlier = df['amount'].quantile(0.75) + 1.5 * IQR \n",
    "\n",
    "# eliminate outliers\n",
    "df = df[(df['amount'] < outlier) & (df['amount'] > 6) ]\n",
    "sns.boxplot(x='amount',data=df);"
   ]
  },
  {
   "cell_type": "markdown",
   "metadata": {},
   "source": [
    "***2.1.3 transformation***"
   ]
  },
  {
   "cell_type": "code",
   "execution_count": 139,
   "metadata": {},
   "outputs": [
    {
     "data": {
      "image/png": "[encoded data removed]",
      "text/plain": [
       "<Figure size 1080x576 with 4 Axes>"
      ]
     },
     "metadata": {},
     "output_type": "display_data"
    }
   ],
   "source": [
    "# distribution of amount\n",
    "fig,((ax1,ax2),(ax3,ax4)) = plt.subplots(ncols=2, nrows=2, figsize=(15,8))\n",
    "ax1=df['amount'].hist(ax=ax1, color=sns.color_palette('colorblind')[-3])\n",
    "ax1.set_title('Before Transformation')\n",
    "ax1.set_xlabel('amount')\n",
    "\n",
    "ax2=np.sqrt(df['amount']).hist(ax=ax2, color=sns.color_palette('colorblind')[-2])\n",
    "ax2.set_title('After Transformation')\n",
    "ax2.set_xlabel('amount')\n",
    "\n",
    "ax3=df['income'].hist(ax=ax3,color=sns.color_palette('colorblind')[-3])\n",
    "ax3.set_xlabel('income')\n",
    "\n",
    "ax4=np.sqrt(df['income']).hist(ax=ax4,color=sns.color_palette('colorblind')[-2])\n",
    "ax4.set_xlabel('income')\n",
    "\n",
    "plt.savefig('./pic/reg_distribution.png', bbox_inches='tight', dpi=300)"
   ]
  },
  {
   "cell_type": "code",
   "execution_count": 140,
   "metadata": {},
   "outputs": [],
   "source": [
    "# data transform\n",
    "df['amount'] = np.sqrt(df['amount'])\n",
    "df['income'] = np.sqrt(df['income'])"
   ]
  },
  {
   "cell_type": "markdown",
   "metadata": {},
   "source": [
    "***2.1.4 transfer categories to dummy variable, and normalize***"
   ]
  },
  {
   "cell_type": "code",
   "execution_count": 141,
   "metadata": {},
   "outputs": [],
   "source": [
    "# dummy variables\n",
    "df = pd.get_dummies(df)\n",
    "\n",
    "# drop 'gender_M', 'gender_O'  , because they aren't indipendent with gender_F\n",
    "df.drop(['gender_M', 'gender_O'], axis=1, inplace=True)"
   ]
  },
  {
   "cell_type": "code",
   "execution_count": 142,
   "metadata": {},
   "outputs": [],
   "source": [
    "# normalize scalar\n",
    "scalar = MinMaxScaler(copy=True, feature_range=(0, 1)).fit(df)\n",
    "scaled_df = scalar.transform(df)\n"
   ]
  },
  {
   "cell_type": "markdown",
   "metadata": {},
   "source": [
    "***2.1.4 split train and test***"
   ]
  },
  {
   "cell_type": "code",
   "execution_count": 143,
   "metadata": {},
   "outputs": [],
   "source": [
    "y = scaled_df[:,1]\n",
    "X = np.delete(scaled_df,1,1)\n",
    "X_train, X_test, y_train, y_test = train_test_split(X,y)"
   ]
  },
  {
   "cell_type": "markdown",
   "metadata": {},
   "source": [
    "### 2.2 Modeling"
   ]
  },
  {
   "cell_type": "markdown",
   "metadata": {},
   "source": [
    "### 2.2.1a Linear regression model fitting"
   ]
  },
  {
   "cell_type": "code",
   "execution_count": 144,
   "metadata": {},
   "outputs": [
    {
     "data": {
      "text/html": [
       "<table class=\"simpletable\">\n",
       "<caption>OLS Regression Results</caption>\n",
       "<tr>\n",
       "  <th>Dep. Variable:</th>            <td>y</td>        <th>  R-squared (uncentered):</th>      <td>   0.852</td>\n",
       "</tr>\n",
       "<tr>\n",
       "  <th>Model:</th>                   <td>OLS</td>       <th>  Adj. R-squared (uncentered):</th> <td>   0.852</td>\n",
       "</tr>\n",
       "<tr>\n",
       "  <th>Method:</th>             <td>Least Squares</td>  <th>  F-statistic:       </th>          <td>   2728.</td>\n",
       "</tr>\n",
       "<tr>\n",
       "  <th>Date:</th>             <td>Sun, 16 May 2021</td> <th>  Prob (F-statistic):</th>           <td>  0.00</td> \n",
       "</tr>\n",
       "<tr>\n",
       "  <th>Time:</th>                 <td>12:30:28</td>     <th>  Log-Likelihood:    </th>          <td>  2594.3</td>\n",
       "</tr>\n",
       "<tr>\n",
       "  <th>No. Observations:</th>      <td> 10449</td>      <th>  AIC:               </th>          <td>  -5145.</td>\n",
       "</tr>\n",
       "<tr>\n",
       "  <th>Df Residuals:</th>          <td> 10427</td>      <th>  BIC:               </th>          <td>  -4985.</td>\n",
       "</tr>\n",
       "<tr>\n",
       "  <th>Df Model:</th>              <td>    22</td>      <th>                     </th>              <td> </td>   \n",
       "</tr>\n",
       "<tr>\n",
       "  <th>Covariance Type:</th>      <td>nonrobust</td>    <th>                     </th>              <td> </td>   \n",
       "</tr>\n",
       "</table>\n",
       "<table class=\"simpletable\">\n",
       "<tr>\n",
       "   <td></td>      <th>coef</th>     <th>std err</th>      <th>t</th>      <th>P>|t|</th>  <th>[0.025</th>    <th>0.975]</th>  \n",
       "</tr>\n",
       "<tr>\n",
       "  <th>x1</th>  <td>    0.3411</td> <td>    0.008</td> <td>   41.144</td> <td> 0.000</td> <td>    0.325</td> <td>    0.357</td>\n",
       "</tr>\n",
       "<tr>\n",
       "  <th>x2</th>  <td>    0.0548</td> <td>    0.004</td> <td>   14.103</td> <td> 0.000</td> <td>    0.047</td> <td>    0.062</td>\n",
       "</tr>\n",
       "<tr>\n",
       "  <th>x3</th>  <td>    0.0047</td> <td>    0.026</td> <td>    0.180</td> <td> 0.857</td> <td>   -0.046</td> <td>    0.056</td>\n",
       "</tr>\n",
       "<tr>\n",
       "  <th>x4</th>  <td>    0.0259</td> <td>    0.026</td> <td>    1.002</td> <td> 0.316</td> <td>   -0.025</td> <td>    0.077</td>\n",
       "</tr>\n",
       "<tr>\n",
       "  <th>x5</th>  <td>    0.0233</td> <td>    0.026</td> <td>    0.903</td> <td> 0.366</td> <td>   -0.027</td> <td>    0.074</td>\n",
       "</tr>\n",
       "<tr>\n",
       "  <th>x6</th>  <td>    0.0227</td> <td>    0.026</td> <td>    0.879</td> <td> 0.379</td> <td>   -0.028</td> <td>    0.073</td>\n",
       "</tr>\n",
       "<tr>\n",
       "  <th>x7</th>  <td>    0.0093</td> <td>    0.027</td> <td>    0.349</td> <td> 0.727</td> <td>   -0.043</td> <td>    0.061</td>\n",
       "</tr>\n",
       "<tr>\n",
       "  <th>x8</th>  <td>    0.1860</td> <td>    0.026</td> <td>    7.050</td> <td> 0.000</td> <td>    0.134</td> <td>    0.238</td>\n",
       "</tr>\n",
       "<tr>\n",
       "  <th>x9</th>  <td>    0.2793</td> <td>    0.026</td> <td>   10.705</td> <td> 0.000</td> <td>    0.228</td> <td>    0.330</td>\n",
       "</tr>\n",
       "<tr>\n",
       "  <th>x10</th> <td>    0.3136</td> <td>    0.026</td> <td>   12.078</td> <td> 0.000</td> <td>    0.263</td> <td>    0.364</td>\n",
       "</tr>\n",
       "<tr>\n",
       "  <th>x11</th> <td>    0.1999</td> <td>    0.026</td> <td>    7.762</td> <td> 0.000</td> <td>    0.149</td> <td>    0.250</td>\n",
       "</tr>\n",
       "<tr>\n",
       "  <th>x12</th> <td>    0.0821</td> <td>    0.026</td> <td>    3.184</td> <td> 0.001</td> <td>    0.032</td> <td>    0.133</td>\n",
       "</tr>\n",
       "<tr>\n",
       "  <th>x13</th> <td>    0.2350</td> <td>    0.014</td> <td>   16.248</td> <td> 0.000</td> <td>    0.207</td> <td>    0.263</td>\n",
       "</tr>\n",
       "<tr>\n",
       "  <th>x14</th> <td>    0.1950</td> <td>    0.019</td> <td>   10.492</td> <td> 0.000</td> <td>    0.159</td> <td>    0.231</td>\n",
       "</tr>\n",
       "<tr>\n",
       "  <th>x15</th> <td>    0.1764</td> <td>    0.021</td> <td>    8.343</td> <td> 0.000</td> <td>    0.135</td> <td>    0.218</td>\n",
       "</tr>\n",
       "<tr>\n",
       "  <th>x16</th> <td>    0.1755</td> <td>    0.027</td> <td>    6.606</td> <td> 0.000</td> <td>    0.123</td> <td>    0.228</td>\n",
       "</tr>\n",
       "<tr>\n",
       "  <th>x17</th> <td>    0.1828</td> <td>    0.018</td> <td>   10.365</td> <td> 0.000</td> <td>    0.148</td> <td>    0.217</td>\n",
       "</tr>\n",
       "<tr>\n",
       "  <th>x18</th> <td>    0.1748</td> <td>    0.040</td> <td>    4.329</td> <td> 0.000</td> <td>    0.096</td> <td>    0.254</td>\n",
       "</tr>\n",
       "<tr>\n",
       "  <th>x19</th> <td>    0.1727</td> <td>    0.011</td> <td>   15.559</td> <td> 0.000</td> <td>    0.151</td> <td>    0.195</td>\n",
       "</tr>\n",
       "<tr>\n",
       "  <th>x20</th> <td>    0.1926</td> <td>    0.013</td> <td>   15.169</td> <td> 0.000</td> <td>    0.168</td> <td>    0.218</td>\n",
       "</tr>\n",
       "<tr>\n",
       "  <th>x21</th> <td>    0.1043</td> <td>    0.017</td> <td>    6.285</td> <td> 0.000</td> <td>    0.072</td> <td>    0.137</td>\n",
       "</tr>\n",
       "<tr>\n",
       "  <th>x22</th> <td>    0.1820</td> <td>    0.018</td> <td>   10.112</td> <td> 0.000</td> <td>    0.147</td> <td>    0.217</td>\n",
       "</tr>\n",
       "</table>\n",
       "<table class=\"simpletable\">\n",
       "<tr>\n",
       "  <th>Omnibus:</th>       <td>201.108</td> <th>  Durbin-Watson:     </th> <td>   2.016</td>\n",
       "</tr>\n",
       "<tr>\n",
       "  <th>Prob(Omnibus):</th> <td> 0.000</td>  <th>  Jarque-Bera (JB):  </th> <td> 206.640</td>\n",
       "</tr>\n",
       "<tr>\n",
       "  <th>Skew:</th>          <td> 0.330</td>  <th>  Prob(JB):          </th> <td>1.34e-45</td>\n",
       "</tr>\n",
       "<tr>\n",
       "  <th>Kurtosis:</th>      <td> 2.803</td>  <th>  Cond. No.          </th> <td>    44.0</td>\n",
       "</tr>\n",
       "</table><br/><br/>Notes:<br/>[1] R² is computed without centering (uncentered) since the model does not contain a constant.<br/>[2] Standard Errors assume that the covariance matrix of the errors is correctly specified."
      ],
      "text/plain": [
       "<class 'statsmodels.iolib.summary.Summary'>\n",
       "\"\"\"\n",
       "                                 OLS Regression Results                                \n",
       "=======================================================================================\n",
       "Dep. Variable:                      y   R-squared (uncentered):                   0.852\n",
       "Model:                            OLS   Adj. R-squared (uncentered):              0.852\n",
       "Method:                 Least Squares   F-statistic:                              2728.\n",
       "Date:                Sun, 16 May 2021   Prob (F-statistic):                        0.00\n",
       "Time:                        12:30:28   Log-Likelihood:                          2594.3\n",
       "No. Observations:               10449   AIC:                                     -5145.\n",
       "Df Residuals:                   10427   BIC:                                     -4985.\n",
       "Df Model:                          22                                                  \n",
       "Covariance Type:            nonrobust                                                  \n",
       "==============================================================================\n",
       "                 coef    std err          t      P>|t|      [0.025      0.975]\n",
       "------------------------------------------------------------------------------\n",
       "x1             0.3411      0.008     41.144      0.000       0.325       0.357\n",
       "x2             0.0548      0.004     14.103      0.000       0.047       0.062\n",
       "x3             0.0047      0.026      0.180      0.857      -0.046       0.056\n",
       "x4             0.0259      0.026      1.002      0.316      -0.025       0.077\n",
       "x5             0.0233      0.026      0.903      0.366      -0.027       0.074\n",
       "x6             0.0227      0.026      0.879      0.379      -0.028       0.073\n",
       "x7             0.0093      0.027      0.349      0.727      -0.043       0.061\n",
       "x8             0.1860      0.026      7.050      0.000       0.134       0.238\n",
       "x9             0.2793      0.026     10.705      0.000       0.228       0.330\n",
       "x10            0.3136      0.026     12.078      0.000       0.263       0.364\n",
       "x11            0.1999      0.026      7.762      0.000       0.149       0.250\n",
       "x12            0.0821      0.026      3.184      0.001       0.032       0.133\n",
       "x13            0.2350      0.014     16.248      0.000       0.207       0.263\n",
       "x14            0.1950      0.019     10.492      0.000       0.159       0.231\n",
       "x15            0.1764      0.021      8.343      0.000       0.135       0.218\n",
       "x16            0.1755      0.027      6.606      0.000       0.123       0.228\n",
       "x17            0.1828      0.018     10.365      0.000       0.148       0.217\n",
       "x18            0.1748      0.040      4.329      0.000       0.096       0.254\n",
       "x19            0.1727      0.011     15.559      0.000       0.151       0.195\n",
       "x20            0.1926      0.013     15.169      0.000       0.168       0.218\n",
       "x21            0.1043      0.017      6.285      0.000       0.072       0.137\n",
       "x22            0.1820      0.018     10.112      0.000       0.147       0.217\n",
       "==============================================================================\n",
       "Omnibus:                      201.108   Durbin-Watson:                   2.016\n",
       "Prob(Omnibus):                  0.000   Jarque-Bera (JB):              206.640\n",
       "Skew:                           0.330   Prob(JB):                     1.34e-45\n",
       "Kurtosis:                       2.803   Cond. No.                         44.0\n",
       "==============================================================================\n",
       "\n",
       "Notes:\n",
       "[1] R² is computed without centering (uncentered) since the model does not contain a constant.\n",
       "[2] Standard Errors assume that the covariance matrix of the errors is correctly specified.\n",
       "\"\"\""
      ]
     },
     "execution_count": 144,
     "metadata": {},
     "output_type": "execute_result"
    }
   ],
   "source": [
    "# model fit\n",
    "reg = sm.OLS(y_train,X_train).fit()\n",
    "reg.summary()"
   ]
  },
  {
   "cell_type": "markdown",
   "metadata": {},
   "source": [
    "### 2.2.1b Multi factor regression model"
   ]
  },
  {
   "cell_type": "code",
   "execution_count": 145,
   "metadata": {},
   "outputs": [
    {
     "name": "stdout",
     "output_type": "stream",
     "text": [
      " R2 for train set: 0.41, \n",
      " R2 for test set: 0.40\n"
     ]
    }
   ],
   "source": [
    "reg = LinearRegression().fit(X_train, y_train)\n",
    "print((\" R2 for train set: %.2f, \\n R2 for test set: %.2f\")  % (r2_score(y_train,reg.predict(X_train)), r2_score(y_test,reg.predict(X_test))))"
   ]
  },
  {
   "cell_type": "markdown",
   "metadata": {},
   "source": [
    "### 2.2.2 Random Forest model"
   ]
  },
  {
   "cell_type": "code",
   "execution_count": 146,
   "metadata": {},
   "outputs": [
    {
     "name": "stdout",
     "output_type": "stream",
     "text": [
      " R2 for train set: 0.41, \n",
      " R2 for test set: 0.39\n"
     ]
    }
   ],
   "source": [
    "regr = RandomForestRegressor(max_depth=7)\n",
    "regr.fit(X_train,y_train)\n",
    "print((\" R2 for train set: %.2f, \\n R2 for test set: %.2f\")  % (r2_score(y_train,regr.predict(X_train)), r2_score(y_test,regr.predict(X_test))))"
   ]
  },
  {
   "cell_type": "markdown",
   "metadata": {},
   "source": [
    "### 2.2.3 Supported vector regression"
   ]
  },
  {
   "cell_type": "code",
   "execution_count": 147,
   "metadata": {},
   "outputs": [
    {
     "name": "stdout",
     "output_type": "stream",
     "text": [
      " R2 for train set: 0.44, \n",
      " R2 for test set: 0.41\n"
     ]
    }
   ],
   "source": [
    "svr = SVR()\n",
    "svr.fit(X_train, y_train) \n",
    "print((\" R2 for train set: %.2f, \\n R2 for test set: %.2f\")  % (r2_score(y_train,svr.predict(X_train)), r2_score(y_test,svr.predict(X_test))))"
   ]
  },
  {
   "cell_type": "markdown",
   "metadata": {},
   "source": [
    "### 2.2.4 Results"
   ]
  },
  {
   "cell_type": "code",
   "execution_count": 148,
   "metadata": {},
   "outputs": [
    {
     "data": {
      "text/html": [
       "<div>\n",
       "<style scoped>\n",
       "    .dataframe tbody tr th:only-of-type {\n",
       "        vertical-align: middle;\n",
       "    }\n",
       "\n",
       "    .dataframe tbody tr th {\n",
       "        vertical-align: top;\n",
       "    }\n",
       "\n",
       "    .dataframe thead th {\n",
       "        text-align: right;\n",
       "    }\n",
       "</style>\n",
       "<table border=\"1\" class=\"dataframe\">\n",
       "  <thead>\n",
       "    <tr style=\"text-align: right;\">\n",
       "      <th></th>\n",
       "      <th>Linear Regression</th>\n",
       "      <th>Random Forest Regression</th>\n",
       "      <th>Supported Vector Rregreesion</th>\n",
       "    </tr>\n",
       "  </thead>\n",
       "  <tbody>\n",
       "    <tr>\n",
       "      <th>R2_train</th>\n",
       "      <td>0.41</td>\n",
       "      <td>0.41</td>\n",
       "      <td>0.44</td>\n",
       "    </tr>\n",
       "    <tr>\n",
       "      <th>R2_test</th>\n",
       "      <td>0.40</td>\n",
       "      <td>0.39</td>\n",
       "      <td>0.41</td>\n",
       "    </tr>\n",
       "  </tbody>\n",
       "</table>\n",
       "</div>"
      ],
      "text/plain": [
       "          Linear Regression  Random Forest Regression  \\\n",
       "R2_train               0.41                      0.41   \n",
       "R2_test                0.40                      0.39   \n",
       "\n",
       "          Supported Vector Rregreesion  \n",
       "R2_train                          0.44  \n",
       "R2_test                           0.41  "
      ]
     },
     "execution_count": 148,
     "metadata": {},
     "output_type": "execute_result"
    }
   ],
   "source": [
    "model_dict={\"Linear Regression\": [r2_score(y_train,reg.predict(X_train)), r2_score(y_test,reg.predict(X_test))],\n",
    "                  \"Random Forest Regression\":  [r2_score(y_train,regr.predict(X_train)), r2_score(y_test,regr.predict(X_test))],\n",
    "                  \"Supported Vector Rregreesion\":  [r2_score(y_train,svr.predict(X_train)), r2_score(y_test,svr.predict(X_test))],\n",
    "           }\n",
    "pd.DataFrame(model_dict, index=['R2_train', 'R2_test']).round(2)"
   ]
  },
  {
   "cell_type": "markdown",
   "metadata": {},
   "source": [
    "## 2.3 Improvement "
   ]
  },
  {
   "cell_type": "code",
   "execution_count": 149,
   "metadata": {},
   "outputs": [],
   "source": [
    "# merge proflle and response in order to know who is responsive to coffee offers\n",
    "df = profile.merge(response[['person','received_offer']], left_on='id', right_on='person', how='left')\n",
    "df.drop('person', axis=1, inplace=True)\n",
    "\n",
    "# join average transaction data to proflie  \n",
    "df = df.set_index('id').join(transaction.groupby('person')['amount'].sum(), how=\"inner\")\n",
    "\n",
    "# drop those customers who didn't receive any coffee offers\n",
    "exclude_ind = np.array(list(set(transaction['person'])-set(offer_received['person'])))\n",
    "df = df.iloc[np.where(np.logical_not(np.isin(df.index.values, exclude_ind)))[0]]"
   ]
  },
  {
   "cell_type": "markdown",
   "metadata": {},
   "source": [
    "**2.1.4 transfer categories to dummy variable, and normalize**"
   ]
  },
  {
   "cell_type": "code",
   "execution_count": 150,
   "metadata": {},
   "outputs": [],
   "source": [
    "# dummy variables\n",
    "df = pd.get_dummies(df)\n",
    "\n",
    "# drop 'gender_M', 'gender_O'  , because they aren't indipendent with gender_F\n",
    "df.drop(['gender_M', 'gender_O'], axis=1, inplace=True)"
   ]
  },
  {
   "cell_type": "code",
   "execution_count": 151,
   "metadata": {},
   "outputs": [],
   "source": [
    "# normalize scalar\n",
    "scalar = MinMaxScaler(copy=True, feature_range=(0, 1)).fit(df)\n",
    "scaled_df = scalar.transform(df)"
   ]
  },
  {
   "cell_type": "markdown",
   "metadata": {},
   "source": [
    "### 2.3.4 split train and test"
   ]
  },
  {
   "cell_type": "code",
   "execution_count": 152,
   "metadata": {},
   "outputs": [],
   "source": [
    "y = scaled_df[:,1]\n",
    "X = np.delete(scaled_df,1,1)\n",
    "X_train, X_test, y_train, y_test = train_test_split(X,y)"
   ]
  },
  {
   "cell_type": "markdown",
   "metadata": {},
   "source": [
    "## 2.3.5 modeling"
   ]
  },
  {
   "cell_type": "markdown",
   "metadata": {},
   "source": [
    "### 2.3.5.1 Linear regression model"
   ]
  },
  {
   "cell_type": "code",
   "execution_count": 153,
   "metadata": {},
   "outputs": [
    {
     "data": {
      "text/html": [
       "<table class=\"simpletable\">\n",
       "<caption>OLS Regression Results</caption>\n",
       "<tr>\n",
       "  <th>Dep. Variable:</th>            <td>y</td>        <th>  R-squared (uncentered):</th>       <td>   0.574</td> \n",
       "</tr>\n",
       "<tr>\n",
       "  <th>Model:</th>                   <td>OLS</td>       <th>  Adj. R-squared (uncentered):</th>  <td>   0.573</td> \n",
       "</tr>\n",
       "<tr>\n",
       "  <th>Method:</th>             <td>Least Squares</td>  <th>  F-statistic:       </th>           <td>   672.3</td> \n",
       "</tr>\n",
       "<tr>\n",
       "  <th>Date:</th>             <td>Sun, 16 May 2021</td> <th>  Prob (F-statistic):</th>            <td>  0.00</td>  \n",
       "</tr>\n",
       "<tr>\n",
       "  <th>Time:</th>                 <td>12:31:17</td>     <th>  Log-Likelihood:    </th>           <td>  13370.</td> \n",
       "</tr>\n",
       "<tr>\n",
       "  <th>No. Observations:</th>      <td> 11012</td>      <th>  AIC:               </th>          <td>-2.670e+04</td>\n",
       "</tr>\n",
       "<tr>\n",
       "  <th>Df Residuals:</th>          <td> 10990</td>      <th>  BIC:               </th>          <td>-2.654e+04</td>\n",
       "</tr>\n",
       "<tr>\n",
       "  <th>Df Model:</th>              <td>    22</td>      <th>                     </th>               <td> </td>    \n",
       "</tr>\n",
       "<tr>\n",
       "  <th>Covariance Type:</th>      <td>nonrobust</td>    <th>                     </th>               <td> </td>    \n",
       "</tr>\n",
       "</table>\n",
       "<table class=\"simpletable\">\n",
       "<tr>\n",
       "   <td></td>      <th>coef</th>     <th>std err</th>      <th>t</th>      <th>P>|t|</th>  <th>[0.025</th>    <th>0.975]</th>  \n",
       "</tr>\n",
       "<tr>\n",
       "  <th>x1</th>  <td>    0.0902</td> <td>    0.003</td> <td>   28.862</td> <td> 0.000</td> <td>    0.084</td> <td>    0.096</td>\n",
       "</tr>\n",
       "<tr>\n",
       "  <th>x2</th>  <td>    0.0117</td> <td>    0.001</td> <td>    8.125</td> <td> 0.000</td> <td>    0.009</td> <td>    0.015</td>\n",
       "</tr>\n",
       "<tr>\n",
       "  <th>x3</th>  <td>    0.0010</td> <td>    0.010</td> <td>    0.103</td> <td> 0.918</td> <td>   -0.018</td> <td>    0.020</td>\n",
       "</tr>\n",
       "<tr>\n",
       "  <th>x4</th>  <td>    0.0042</td> <td>    0.010</td> <td>    0.430</td> <td> 0.667</td> <td>   -0.015</td> <td>    0.024</td>\n",
       "</tr>\n",
       "<tr>\n",
       "  <th>x5</th>  <td>    0.0003</td> <td>    0.010</td> <td>    0.029</td> <td> 0.977</td> <td>   -0.019</td> <td>    0.019</td>\n",
       "</tr>\n",
       "<tr>\n",
       "  <th>x6</th>  <td>    0.0011</td> <td>    0.010</td> <td>    0.111</td> <td> 0.912</td> <td>   -0.018</td> <td>    0.020</td>\n",
       "</tr>\n",
       "<tr>\n",
       "  <th>x7</th>  <td>-2.228e-06</td> <td>    0.010</td> <td>   -0.000</td> <td> 1.000</td> <td>   -0.020</td> <td>    0.020</td>\n",
       "</tr>\n",
       "<tr>\n",
       "  <th>x8</th>  <td>    0.0175</td> <td>    0.010</td> <td>    1.740</td> <td> 0.082</td> <td>   -0.002</td> <td>    0.037</td>\n",
       "</tr>\n",
       "<tr>\n",
       "  <th>x9</th>  <td>    0.0449</td> <td>    0.010</td> <td>    4.529</td> <td> 0.000</td> <td>    0.025</td> <td>    0.064</td>\n",
       "</tr>\n",
       "<tr>\n",
       "  <th>x10</th> <td>    0.0508</td> <td>    0.010</td> <td>    5.151</td> <td> 0.000</td> <td>    0.031</td> <td>    0.070</td>\n",
       "</tr>\n",
       "<tr>\n",
       "  <th>x11</th> <td>    0.0273</td> <td>    0.010</td> <td>    2.788</td> <td> 0.005</td> <td>    0.008</td> <td>    0.046</td>\n",
       "</tr>\n",
       "<tr>\n",
       "  <th>x12</th> <td>    0.0016</td> <td>    0.010</td> <td>    0.164</td> <td> 0.870</td> <td>   -0.018</td> <td>    0.021</td>\n",
       "</tr>\n",
       "<tr>\n",
       "  <th>x13</th> <td>    0.0470</td> <td>    0.005</td> <td>    8.627</td> <td> 0.000</td> <td>    0.036</td> <td>    0.058</td>\n",
       "</tr>\n",
       "<tr>\n",
       "  <th>x14</th> <td>    0.0552</td> <td>    0.007</td> <td>    7.696</td> <td> 0.000</td> <td>    0.041</td> <td>    0.069</td>\n",
       "</tr>\n",
       "<tr>\n",
       "  <th>x15</th> <td>    0.0405</td> <td>    0.008</td> <td>    5.243</td> <td> 0.000</td> <td>    0.025</td> <td>    0.056</td>\n",
       "</tr>\n",
       "<tr>\n",
       "  <th>x16</th> <td>    0.0362</td> <td>    0.010</td> <td>    3.580</td> <td> 0.000</td> <td>    0.016</td> <td>    0.056</td>\n",
       "</tr>\n",
       "<tr>\n",
       "  <th>x17</th> <td>    0.0426</td> <td>    0.007</td> <td>    6.212</td> <td> 0.000</td> <td>    0.029</td> <td>    0.056</td>\n",
       "</tr>\n",
       "<tr>\n",
       "  <th>x18</th> <td>    0.0326</td> <td>    0.017</td> <td>    1.972</td> <td> 0.049</td> <td>    0.000</td> <td>    0.065</td>\n",
       "</tr>\n",
       "<tr>\n",
       "  <th>x19</th> <td>    0.0458</td> <td>    0.004</td> <td>   11.098</td> <td> 0.000</td> <td>    0.038</td> <td>    0.054</td>\n",
       "</tr>\n",
       "<tr>\n",
       "  <th>x20</th> <td>    0.0597</td> <td>    0.005</td> <td>   13.014</td> <td> 0.000</td> <td>    0.051</td> <td>    0.069</td>\n",
       "</tr>\n",
       "<tr>\n",
       "  <th>x21</th> <td>    0.0301</td> <td>    0.006</td> <td>    4.849</td> <td> 0.000</td> <td>    0.018</td> <td>    0.042</td>\n",
       "</tr>\n",
       "<tr>\n",
       "  <th>x22</th> <td>    0.0333</td> <td>    0.006</td> <td>    5.134</td> <td> 0.000</td> <td>    0.021</td> <td>    0.046</td>\n",
       "</tr>\n",
       "</table>\n",
       "<table class=\"simpletable\">\n",
       "<tr>\n",
       "  <th>Omnibus:</th>       <td>9803.046</td> <th>  Durbin-Watson:     </th>  <td>   1.999</td> \n",
       "</tr>\n",
       "<tr>\n",
       "  <th>Prob(Omnibus):</th>  <td> 0.000</td>  <th>  Jarque-Bera (JB):  </th> <td>365745.254</td>\n",
       "</tr>\n",
       "<tr>\n",
       "  <th>Skew:</th>           <td> 4.252</td>  <th>  Prob(JB):          </th>  <td>    0.00</td> \n",
       "</tr>\n",
       "<tr>\n",
       "  <th>Kurtosis:</th>       <td>29.922</td>  <th>  Cond. No.          </th>  <td>    44.0</td> \n",
       "</tr>\n",
       "</table><br/><br/>Notes:<br/>[1] R² is computed without centering (uncentered) since the model does not contain a constant.<br/>[2] Standard Errors assume that the covariance matrix of the errors is correctly specified."
      ],
      "text/plain": [
       "<class 'statsmodels.iolib.summary.Summary'>\n",
       "\"\"\"\n",
       "                                 OLS Regression Results                                \n",
       "=======================================================================================\n",
       "Dep. Variable:                      y   R-squared (uncentered):                   0.574\n",
       "Model:                            OLS   Adj. R-squared (uncentered):              0.573\n",
       "Method:                 Least Squares   F-statistic:                              672.3\n",
       "Date:                Sun, 16 May 2021   Prob (F-statistic):                        0.00\n",
       "Time:                        12:31:17   Log-Likelihood:                          13370.\n",
       "No. Observations:               11012   AIC:                                 -2.670e+04\n",
       "Df Residuals:                   10990   BIC:                                 -2.654e+04\n",
       "Df Model:                          22                                                  \n",
       "Covariance Type:            nonrobust                                                  \n",
       "==============================================================================\n",
       "                 coef    std err          t      P>|t|      [0.025      0.975]\n",
       "------------------------------------------------------------------------------\n",
       "x1             0.0902      0.003     28.862      0.000       0.084       0.096\n",
       "x2             0.0117      0.001      8.125      0.000       0.009       0.015\n",
       "x3             0.0010      0.010      0.103      0.918      -0.018       0.020\n",
       "x4             0.0042      0.010      0.430      0.667      -0.015       0.024\n",
       "x5             0.0003      0.010      0.029      0.977      -0.019       0.019\n",
       "x6             0.0011      0.010      0.111      0.912      -0.018       0.020\n",
       "x7         -2.228e-06      0.010     -0.000      1.000      -0.020       0.020\n",
       "x8             0.0175      0.010      1.740      0.082      -0.002       0.037\n",
       "x9             0.0449      0.010      4.529      0.000       0.025       0.064\n",
       "x10            0.0508      0.010      5.151      0.000       0.031       0.070\n",
       "x11            0.0273      0.010      2.788      0.005       0.008       0.046\n",
       "x12            0.0016      0.010      0.164      0.870      -0.018       0.021\n",
       "x13            0.0470      0.005      8.627      0.000       0.036       0.058\n",
       "x14            0.0552      0.007      7.696      0.000       0.041       0.069\n",
       "x15            0.0405      0.008      5.243      0.000       0.025       0.056\n",
       "x16            0.0362      0.010      3.580      0.000       0.016       0.056\n",
       "x17            0.0426      0.007      6.212      0.000       0.029       0.056\n",
       "x18            0.0326      0.017      1.972      0.049       0.000       0.065\n",
       "x19            0.0458      0.004     11.098      0.000       0.038       0.054\n",
       "x20            0.0597      0.005     13.014      0.000       0.051       0.069\n",
       "x21            0.0301      0.006      4.849      0.000       0.018       0.042\n",
       "x22            0.0333      0.006      5.134      0.000       0.021       0.046\n",
       "==============================================================================\n",
       "Omnibus:                     9803.046   Durbin-Watson:                   1.999\n",
       "Prob(Omnibus):                  0.000   Jarque-Bera (JB):           365745.254\n",
       "Skew:                           4.252   Prob(JB):                         0.00\n",
       "Kurtosis:                      29.922   Cond. No.                         44.0\n",
       "==============================================================================\n",
       "\n",
       "Notes:\n",
       "[1] R² is computed without centering (uncentered) since the model does not contain a constant.\n",
       "[2] Standard Errors assume that the covariance matrix of the errors is correctly specified.\n",
       "\"\"\""
      ]
     },
     "execution_count": 153,
     "metadata": {},
     "output_type": "execute_result"
    }
   ],
   "source": [
    "# model fit\n",
    "reg = sm.OLS(y_train,X_train).fit()\n",
    "reg.summary()"
   ]
  },
  {
   "cell_type": "code",
   "execution_count": 154,
   "metadata": {},
   "outputs": [
    {
     "name": "stdout",
     "output_type": "stream",
     "text": [
      " R2 for train set: 0.21, \n",
      " R2 for test set: 0.20\n"
     ]
    }
   ],
   "source": [
    "print((\" R2 for train set: %.2f, \\n R2 for test set: %.2f\")  % (r2_score(y_train,reg.predict(X_train)), r2_score(y_test,reg.predict(X_test))))"
   ]
  },
  {
   "cell_type": "code",
   "execution_count": 155,
   "metadata": {},
   "outputs": [
    {
     "data": {
      "image/png": "[encoded data removed]",
      "text/plain": [
       "<Figure size 1080x360 with 2 Axes>"
      ]
     },
     "metadata": {},
     "output_type": "display_data"
    }
   ],
   "source": [
    "fig, (ax1,ax2) = plt.subplots(ncols=2, figsize=(15,5))\n",
    "ax1.scatter(x=reg.predict(X_train), y=y_train,alpha=0.5,color=sns.color_palette('colorblind')[-1])\n",
    "ax1.set_title(\"Result for train set\")\n",
    "ax1.set_xlabel('predict y')\n",
    "ax1.set_ylabel('actual y')\n",
    "ax1.set_xticklabels('')\n",
    "ax1.set_yticklabels('')\n",
    "ax1.grid(False)\n",
    "\n",
    "ax2.scatter(x=reg.predict(X_test), y=y_test, alpha=0.5,color=sns.color_palette('colorblind')[-1])\n",
    "ax2.set_title(\"Result for test set\")\n",
    "ax2.set_xlabel('predict y')\n",
    "ax2.set_ylabel('actual y')\n",
    "ax2.set_xticklabels('')\n",
    "ax2.set_yticklabels('')\n",
    "ax2.grid(False)\n",
    "plt.savefig(\"./pic/reg_result.png\", bbox_inches='tight',dpi=300)"
   ]
  },
  {
   "cell_type": "code",
   "execution_count": 156,
   "metadata": {},
   "outputs": [],
   "source": [
    "betas = pd.DataFrame(reg.params, index=(np.delete(df.columns.values,1)), columns=['params'])\n",
    "betas['t_value'] = reg.tvalues"
   ]
  },
  {
   "cell_type": "code",
   "execution_count": 157,
   "metadata": {},
   "outputs": [
    {
     "data": {
      "text/html": [
       "<div>\n",
       "<style scoped>\n",
       "    .dataframe tbody tr th:only-of-type {\n",
       "        vertical-align: middle;\n",
       "    }\n",
       "\n",
       "    .dataframe tbody tr th {\n",
       "        vertical-align: top;\n",
       "    }\n",
       "\n",
       "    .dataframe thead th {\n",
       "        text-align: right;\n",
       "    }\n",
       "</style>\n",
       "<table border=\"1\" class=\"dataframe\">\n",
       "  <thead>\n",
       "    <tr style=\"text-align: right;\">\n",
       "      <th></th>\n",
       "      <th>params</th>\n",
       "      <th>t_value</th>\n",
       "    </tr>\n",
       "  </thead>\n",
       "  <tbody>\n",
       "    <tr>\n",
       "      <th>income</th>\n",
       "      <td>0.090239</td>\n",
       "      <td>28.862177</td>\n",
       "    </tr>\n",
       "    <tr>\n",
       "      <th>gender_F</th>\n",
       "      <td>0.011744</td>\n",
       "      <td>8.124977</td>\n",
       "    </tr>\n",
       "    <tr>\n",
       "      <th>age_&lt;30</th>\n",
       "      <td>0.001019</td>\n",
       "      <td>0.102767</td>\n",
       "    </tr>\n",
       "    <tr>\n",
       "      <th>age_31~45</th>\n",
       "      <td>0.004232</td>\n",
       "      <td>0.430030</td>\n",
       "    </tr>\n",
       "    <tr>\n",
       "      <th>age_46~60</th>\n",
       "      <td>0.000281</td>\n",
       "      <td>0.028700</td>\n",
       "    </tr>\n",
       "    <tr>\n",
       "      <th>age_61~80</th>\n",
       "      <td>0.001085</td>\n",
       "      <td>0.110705</td>\n",
       "    </tr>\n",
       "    <tr>\n",
       "      <th>age_&gt;80</th>\n",
       "      <td>-0.000002</td>\n",
       "      <td>-0.000221</td>\n",
       "    </tr>\n",
       "    <tr>\n",
       "      <th>became_member_on_&lt;2014</th>\n",
       "      <td>0.017504</td>\n",
       "      <td>1.739840</td>\n",
       "    </tr>\n",
       "    <tr>\n",
       "      <th>became_member_on_2014</th>\n",
       "      <td>0.044865</td>\n",
       "      <td>4.529131</td>\n",
       "    </tr>\n",
       "    <tr>\n",
       "      <th>became_member_on_2015</th>\n",
       "      <td>0.050825</td>\n",
       "      <td>5.151285</td>\n",
       "    </tr>\n",
       "    <tr>\n",
       "      <th>became_member_on_2017</th>\n",
       "      <td>0.027269</td>\n",
       "      <td>2.788296</td>\n",
       "    </tr>\n",
       "    <tr>\n",
       "      <th>became_member_on_2018</th>\n",
       "      <td>0.001600</td>\n",
       "      <td>0.163635</td>\n",
       "    </tr>\n",
       "    <tr>\n",
       "      <th>received_offer_F_1</th>\n",
       "      <td>0.046978</td>\n",
       "      <td>8.626527</td>\n",
       "    </tr>\n",
       "    <tr>\n",
       "      <th>received_offer_F_10</th>\n",
       "      <td>0.055243</td>\n",
       "      <td>7.696091</td>\n",
       "    </tr>\n",
       "    <tr>\n",
       "      <th>received_offer_F_2</th>\n",
       "      <td>0.040504</td>\n",
       "      <td>5.243354</td>\n",
       "    </tr>\n",
       "    <tr>\n",
       "      <th>received_offer_F_3</th>\n",
       "      <td>0.036198</td>\n",
       "      <td>3.580387</td>\n",
       "    </tr>\n",
       "    <tr>\n",
       "      <th>received_offer_F_4</th>\n",
       "      <td>0.042602</td>\n",
       "      <td>6.211926</td>\n",
       "    </tr>\n",
       "    <tr>\n",
       "      <th>received_offer_F_5</th>\n",
       "      <td>0.032593</td>\n",
       "      <td>1.972055</td>\n",
       "    </tr>\n",
       "    <tr>\n",
       "      <th>received_offer_F_6</th>\n",
       "      <td>0.045839</td>\n",
       "      <td>11.098348</td>\n",
       "    </tr>\n",
       "    <tr>\n",
       "      <th>received_offer_F_7</th>\n",
       "      <td>0.059736</td>\n",
       "      <td>13.013922</td>\n",
       "    </tr>\n",
       "    <tr>\n",
       "      <th>received_offer_F_8</th>\n",
       "      <td>0.030052</td>\n",
       "      <td>4.849256</td>\n",
       "    </tr>\n",
       "    <tr>\n",
       "      <th>received_offer_F_9</th>\n",
       "      <td>0.033328</td>\n",
       "      <td>5.134298</td>\n",
       "    </tr>\n",
       "  </tbody>\n",
       "</table>\n",
       "</div>"
      ],
      "text/plain": [
       "                          params    t_value\n",
       "income                  0.090239  28.862177\n",
       "gender_F                0.011744   8.124977\n",
       "age_<30                 0.001019   0.102767\n",
       "age_31~45               0.004232   0.430030\n",
       "age_46~60               0.000281   0.028700\n",
       "age_61~80               0.001085   0.110705\n",
       "age_>80                -0.000002  -0.000221\n",
       "became_member_on_<2014  0.017504   1.739840\n",
       "became_member_on_2014   0.044865   4.529131\n",
       "became_member_on_2015   0.050825   5.151285\n",
       "became_member_on_2017   0.027269   2.788296\n",
       "became_member_on_2018   0.001600   0.163635\n",
       "received_offer_F_1      0.046978   8.626527\n",
       "received_offer_F_10     0.055243   7.696091\n",
       "received_offer_F_2      0.040504   5.243354\n",
       "received_offer_F_3      0.036198   3.580387\n",
       "received_offer_F_4      0.042602   6.211926\n",
       "received_offer_F_5      0.032593   1.972055\n",
       "received_offer_F_6      0.045839  11.098348\n",
       "received_offer_F_7      0.059736  13.013922\n",
       "received_offer_F_8      0.030052   4.849256\n",
       "received_offer_F_9      0.033328   5.134298"
      ]
     },
     "execution_count": 157,
     "metadata": {},
     "output_type": "execute_result"
    }
   ],
   "source": [
    "betas"
   ]
  },
  {
   "cell_type": "code",
   "execution_count": 158,
   "metadata": {},
   "outputs": [],
   "source": [
    "def split_betas(key):\n",
    "    \"\"\"\n",
    "    split index of table of beta to variable name and value.\n",
    "    for example, received_offer_F_9 should be split to received_offer and F_9.\n",
    "    return series according key.\n",
    "    \"\"\"\n",
    "    factor = betas.loc[[key.split(\"_\")[0] in ind.split('_') for ind in betas.index]]['params']\n",
    "    factor.index = factor.index.str.split(\"_\").str[-1]\n",
    "    return factor.rename(key)"
   ]
  },
  {
   "cell_type": "code",
   "execution_count": 159,
   "metadata": {},
   "outputs": [
    {
     "data": {
      "image/png": "[encoded data removed]",
      "text/plain": [
       "<Figure size 1080x360 with 2 Axes>"
      ]
     },
     "metadata": {},
     "output_type": "display_data"
    }
   ],
   "source": [
    "# age, become_member_on, gender ploting\n",
    "betas_age =  split_betas('age')\n",
    "betas_become_member = split_betas('became_member_on')\n",
    "betas_gender = split_betas('gender')\n",
    "\n",
    "fig, (ax1,ax2) = plt.subplots(ncols=2, nrows=1, figsize=(15,5))\n",
    "ax2 = betas_age.plot.bar(title='age',ax=ax2, rot=0, legend=False,  ylim=(0.,0.4), sharey=True,color=sns.color_palette('colorblind')[-1])\n",
    "ax2.set_ylabel('Param weights')\n",
    "ax2.grid(False)\n",
    "ax1 = betas_become_member.plot.bar(title = 'became_member_on',ax=ax1, rot=0, legend=False, ylim=(0.,0.4),color=sns.color_palette('colorblind')[-1])\n",
    "ax1.grid(False)\n",
    "ax1.set_ylabel(\"Params\")\n",
    "plt.savefig('./pic/reg_result_demogriphic.png', bbox_inches='tight', dpi=300)"
   ]
  },
  {
   "cell_type": "code",
   "execution_count": 160,
   "metadata": {
    "scrolled": true
   },
   "outputs": [
    {
     "data": {
      "image/png": "[encoded data removed]",
      "text/plain": [
       "<Figure size 1080x360 with 3 Axes>"
      ]
     },
     "metadata": {},
     "output_type": "display_data"
    }
   ],
   "source": [
    "# offer type ploting\n",
    "betas_offer = split_betas('offer')\n",
    "betas_offer.index =  betas_offer.index.astype(int) - 1\n",
    "betas_offer = pd.DataFrame(betas_offer).join(portfolio[['offer_type', 'difficulty','duration','reward']])\n",
    "betas_offer = betas_offer.groupby(['offer_type', 'difficulty','duration','reward'])['offer'].sum()\n",
    "\n",
    "fig, (ax1, ax2, ax3) = plt.subplots(ncols=3, nrows=1, figsize=(15,5))\n",
    "\n",
    "idx = pd.IndexSlice\n",
    "ax2 = betas_offer.loc[idx['discount']].sort_values(ascending = False).plot.bar(title='discount', color=sns.color_palette('colorblind')[-1], ax=ax2, rot=0, ylim=(0.,0.23), sharey=True)\n",
    "ax2.grid(False)\n",
    "\n",
    "ax1 = betas_offer.loc[idx['bogo']].sort_values(ascending = False).plot.bar(title='bogo', color=sns.color_palette('colorblind')[-1], ax=ax1, rot=0, ylim=(0.,0.23))\n",
    "ax1.set_ylabel(\"Params\")\n",
    "ax1.grid(False)\n",
    "\n",
    "ax3 = betas_offer.loc[idx['informational']].sort_values(ascending = False).plot.bar(title='informational', color=sns.color_palette('colorblind')[-1], ax=ax3,rot=0,ylim=(0.,0.23), sharey=True)\n",
    "ax3.grid(False)\n",
    "\n",
    "plt.savefig('./pic/reg_result_response.png', bbox_inches='tight', dpi=300)"
   ]
  },
  {
   "cell_type": "markdown",
   "metadata": {},
   "source": [
    "### 2.3.5.2 Random Forest model"
   ]
  },
  {
   "cell_type": "code",
   "execution_count": 161,
   "metadata": {},
   "outputs": [
    {
     "data": {
      "text/plain": [
       "RandomForestRegressor(max_depth=7)"
      ]
     },
     "execution_count": 161,
     "metadata": {},
     "output_type": "execute_result"
    }
   ],
   "source": [
    "regr = RandomForestRegressor(max_depth=7)\n",
    "regr.fit(X_train,y_train)"
   ]
  },
  {
   "cell_type": "code",
   "execution_count": 162,
   "metadata": {},
   "outputs": [
    {
     "name": "stdout",
     "output_type": "stream",
     "text": [
      " train score: 0.2742 \n",
      " test score:  0.1595 \n"
     ]
    }
   ],
   "source": [
    "    print(' train score: %.4f \\n test score:  %.4f ' %(regr.score(X_train, y_train),regr.score(X_test, y_test)))"
   ]
  },
  {
   "cell_type": "code",
   "execution_count": 163,
   "metadata": {},
   "outputs": [
    {
     "data": {
      "text/plain": [
       "<matplotlib.axes._subplots.AxesSubplot at 0x1f0d6dec788>"
      ]
     },
     "execution_count": 163,
     "metadata": {},
     "output_type": "execute_result"
    },
    {
     "data": {
      "image/png": "[encoded data removed]",
      "text/plain": [
       "<Figure size 360x720 with 1 Axes>"
      ]
     },
     "metadata": {},
     "output_type": "display_data"
    }
   ],
   "source": [
    "feature_importance =  pd.Series(regr.feature_importances_, index=(np.delete(df.columns.values,1))).astype(float)\n",
    "feature_importance[1:].sort_values().plot.barh(figsize=(5,10))"
   ]
  },
  {
   "cell_type": "markdown",
   "metadata": {},
   "source": [
    "### 2.3.5.3 SVR"
   ]
  },
  {
   "cell_type": "code",
   "execution_count": 164,
   "metadata": {},
   "outputs": [
    {
     "data": {
      "text/plain": [
       "SVR()"
      ]
     },
     "execution_count": 164,
     "metadata": {},
     "output_type": "execute_result"
    }
   ],
   "source": [
    "svr = SVR()\n",
    "svr.fit(X_train, y_train) "
   ]
  },
  {
   "cell_type": "code",
   "execution_count": 165,
   "metadata": {},
   "outputs": [
    {
     "data": {
      "text/plain": [
       "(-0.09641612582427017, -0.09816066343342489)"
      ]
     },
     "execution_count": 165,
     "metadata": {},
     "output_type": "execute_result"
    }
   ],
   "source": [
    "svr.score(X_train, y_train), svr.score(X_test, y_test)"
   ]
  },
  {
   "cell_type": "code",
   "execution_count": 166,
   "metadata": {},
   "outputs": [],
   "source": [
    "model_dict={\"Linear Regression\": [r2_score(y_train,reg.predict(X_train)), r2_score(y_test,reg.predict(X_test))],\n",
    "                  \"Random Forest Regression\":  [r2_score(y_train,regr.predict(X_train)), r2_score(y_test,regr.predict(X_test))],\n",
    "                  \"Supported Vector Rregreesion\":  [r2_score(y_train,svr.predict(X_train)), r2_score(y_test,svr.predict(X_test))],\n",
    "           }"
   ]
  },
  {
   "cell_type": "code",
   "execution_count": 167,
   "metadata": {},
   "outputs": [
    {
     "data": {
      "text/html": [
       "<div>\n",
       "<style scoped>\n",
       "    .dataframe tbody tr th:only-of-type {\n",
       "        vertical-align: middle;\n",
       "    }\n",
       "\n",
       "    .dataframe tbody tr th {\n",
       "        vertical-align: top;\n",
       "    }\n",
       "\n",
       "    .dataframe thead th {\n",
       "        text-align: right;\n",
       "    }\n",
       "</style>\n",
       "<table border=\"1\" class=\"dataframe\">\n",
       "  <thead>\n",
       "    <tr style=\"text-align: right;\">\n",
       "      <th></th>\n",
       "      <th>Linear Regression</th>\n",
       "      <th>Random Forest Regression</th>\n",
       "      <th>Supported Vector Rregreesion</th>\n",
       "    </tr>\n",
       "  </thead>\n",
       "  <tbody>\n",
       "    <tr>\n",
       "      <th>R2_train</th>\n",
       "      <td>0.21</td>\n",
       "      <td>0.27</td>\n",
       "      <td>-0.1</td>\n",
       "    </tr>\n",
       "    <tr>\n",
       "      <th>R2_test</th>\n",
       "      <td>0.20</td>\n",
       "      <td>0.16</td>\n",
       "      <td>-0.1</td>\n",
       "    </tr>\n",
       "  </tbody>\n",
       "</table>\n",
       "</div>"
      ],
      "text/plain": [
       "          Linear Regression  Random Forest Regression  \\\n",
       "R2_train               0.21                      0.27   \n",
       "R2_test                0.20                      0.16   \n",
       "\n",
       "          Supported Vector Rregreesion  \n",
       "R2_train                          -0.1  \n",
       "R2_test                           -0.1  "
      ]
     },
     "execution_count": 167,
     "metadata": {},
     "output_type": "execute_result"
    }
   ],
   "source": [
    "pd.DataFrame(model_dict, index=['R2_train', 'R2_test']).round(2)"
   ]
  },
  {
   "cell_type": "code",
   "execution_count": null,
   "metadata": {},
   "outputs": [],
   "source": []
  }
 ],
 "metadata": {
  "kernelspec": {
   "display_name": "Python 3",
   "language": "python",
   "name": "python3"
  },
  "language_info": {
   "codemirror_mode": {
    "name": "ipython",
    "version": 3
   },
   "file_extension": ".py",
   "mimetype": "text/x-python",
   "name": "python",
   "nbconvert_exporter": "python",
   "pygments_lexer": "ipython3",
   "version": "3.7.6"
  }
 },
 "nbformat": 4,
 "nbformat_minor": 2
}
